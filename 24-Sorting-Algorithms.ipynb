{
 "cells": [
  {
   "attachments": {},
   "cell_type": "markdown",
   "metadata": {},
   "source": [
    "### Estruturas de Dados Python – Algoritmos de Ordenação"
   ]
  },
  {
   "attachments": {},
   "cell_type": "markdown",
   "metadata": {},
   "source": [
    "A classificação refere-se a organizar os dados em um formato específico. O algoritmo de classificação especifica a maneira de organizar os dados em uma ordem específica. As ordens mais comuns estão em ordem numérica ou lexicográfica."
   ]
  },
  {
   "attachments": {},
   "cell_type": "markdown",
   "metadata": {},
   "source": [
    "A importância da classificação reside no fato de que a pesquisa de dados pode ser otimizada em um nível muito alto, se os dados forem armazenados de maneira classificada. A classificação também é usada para representar dados em formatos mais legíveis. Abaixo, vemos cinco dessas implementações de classificação em python."
   ]
  },
  {
   "attachments": {},
   "cell_type": "markdown",
   "metadata": {},
   "source": [
    "- Bubble Sort\n",
    "- Merge Sort\n",
    "- Insertion Sort\n",
    "- Shell Sort\n",
    "- Selection Sort"
   ]
  },
  {
   "attachments": {},
   "cell_type": "markdown",
   "metadata": {},
   "source": [
    "#### Bubble Sort\n",
    "---"
   ]
  },
  {
   "attachments": {},
   "cell_type": "markdown",
   "metadata": {},
   "source": [
    "É um algoritmo baseado em comparação no qual cada par de elementos adjacentes é comparado e os elementos são trocados se não estiverem em ordem."
   ]
  },
  {
   "cell_type": "code",
   "execution_count": 1,
   "metadata": {},
   "outputs": [
    {
     "name": "stdout",
     "output_type": "stream",
     "text": [
      "[2, 6, 11, 19, 27, 31, 45, 121]\n"
     ]
    }
   ],
   "source": [
    "def bubblesort(list):\n",
    "    \n",
    "    # Troque os elementos para organizar em ordem\n",
    "    for iter_num in range(len(list)-1,0,-1):\n",
    "        \n",
    "        for idx in range(iter_num):\n",
    "            \n",
    "            if list[idx]>list[idx+1]:\n",
    "                temp = list[idx]\n",
    "                list[idx] = list[idx+1]\n",
    "                list[idx+1] = temp\n",
    "\n",
    "list = [19,2,31,45,6,11,121,27]\n",
    "\n",
    "bubblesort(list)\n",
    "print(list)"
   ]
  },
  {
   "attachments": {},
   "cell_type": "markdown",
   "metadata": {},
   "source": [
    "#### Merge Sort\n",
    "---"
   ]
  },
  {
   "attachments": {},
   "cell_type": "markdown",
   "metadata": {},
   "source": [
    "A ordenação de mesclagem primeiro divide a matriz em metades iguais e depois as combina em uma ordenação maneiras."
   ]
  },
  {
   "cell_type": "code",
   "execution_count": null,
   "metadata": {},
   "outputs": [],
   "source": [
    "def merge_sort(unsorted_list):\n",
    "    \n",
    "    if len(unsorted_list) <= 1:\n",
    "        return unsorted_list\n",
    "\n",
    "    # Encontre o ponto médio e divida-o\n",
    "    middle = len(unsorted_list) // 2\n",
    "\n",
    "    left_list = unsorted_list[:middle]\n",
    "    right_list = unsorted_list[middle:]\n",
    "\n",
    "    left_list = merge_sort(left_list)\n",
    "    right_list = merge_sort(right_list)\n",
    "\n",
    "    return list(merge(left_list, right_list))\n",
    "\n",
    "# Mesclar as metades classificadas\n",
    "def merge(left_half,right_half):\n",
    "\n",
    "    res = []\n",
    "    \n",
    "    while len(left_half) != 0 and len(right_half) != 0:\n",
    "\n",
    "        if left_half[0] < right_half[0]:\n",
    "            res.append(left_half[0])\n",
    "            left_half.remove(left_half[0])\n",
    "    \n",
    "        else:\n",
    "            res.append(right_half[0])\n",
    "            right_half.remove(right_half[0])\n",
    "    \n",
    "    if len(left_half) == 0:\n",
    "        res = res + right_half\n",
    "    \n",
    "    else:\n",
    "        res = res + left_half\n",
    "    \n",
    "    return res\n",
    "\n",
    "unsorted_list = [64, 34, 25, 12, 22, 11, 90]\n",
    "\n",
    "print(merge_sort(unsorted_list))"
   ]
  },
  {
   "attachments": {},
   "cell_type": "markdown",
   "metadata": {},
   "source": [
    "#### Insertion Sort\n",
    "---"
   ]
  },
  {
   "attachments": {},
   "cell_type": "markdown",
   "metadata": {},
   "source": [
    "A classificação por inserção envolve encontrar o lugar certo para um determinado elemento em uma lista classificada. Então, no começo, comparamos os dois primeiros elementos e os classificamos comparandoos. Em seguida, escolhemos o terceiro elemento e encontramos sua posição adequada entre os dois elementos anteriores classificados. Dessa forma, vamos gradativamente adicionando mais elementos à lista já ordenada, colocando-os em sua devida posição."
   ]
  },
  {
   "cell_type": "code",
   "execution_count": 3,
   "metadata": {},
   "outputs": [
    {
     "name": "stdout",
     "output_type": "stream",
     "text": [
      "[19, 2, 31, 45, 30, 11, 27, 121]\n"
     ]
    }
   ],
   "source": [
    "def insertion_sort(InputList):\n",
    "    for i in range(1, len(InputList)):\n",
    "        j = i-1\n",
    "        nxt_element = InputList[i]\n",
    "\n",
    "# Compara o elemento atual com o próximo\n",
    "    while (InputList[j] > nxt_element) and (j >= 0):\n",
    "\n",
    "        InputList[j+1] = InputList[j]\n",
    "        j=j-1\n",
    "\n",
    "    InputList[j+1] = nxt_element\n",
    "\n",
    "list = [19,2,31,45,30,11,121,27]\n",
    "\n",
    "insertion_sort(list)\n",
    "print(list)"
   ]
  },
  {
   "attachments": {},
   "cell_type": "markdown",
   "metadata": {},
   "source": [
    "#### Shell Sort\n",
    "---"
   ]
  },
  {
   "attachments": {},
   "cell_type": "markdown",
   "metadata": {},
   "source": [
    "Shell Sort envolve elementos de classificação, que estão distantes uns dos outros. Classificamos uma grande sublista de uma determinada lista e continuamos reduzindo o tamanho da lista até que todos os elementos estejam classificados. O programa abaixo encontra a lacuna igualando-a à metade do comprimento do tamanho da lista e, em seguida, começa a classificar todos os elementos nela. Em seguida, continuamos redefinindo a lacuna até que toda a lista seja classificada"
   ]
  },
  {
   "cell_type": "code",
   "execution_count": 4,
   "metadata": {},
   "outputs": [
    {
     "name": "stdout",
     "output_type": "stream",
     "text": [
      "[2, 11, 19, 27, 30, 31, 45, 121]\n"
     ]
    }
   ],
   "source": [
    "def shellSort(input_list):\n",
    "    \n",
    "    gap = len(input_list) // 2\n",
    "    \n",
    "    while gap > 0:\n",
    "        for i in range(gap, len(input_list)):\n",
    "            temp = input_list[i]\n",
    "            j = i\n",
    "            \n",
    "            # Ordena a sub-lista para esta lacuna\n",
    "            while j >= gap and input_list[j - gap] > temp:\n",
    "                input_list[j] = input_list[j - gap]\n",
    "                j = j-gap\n",
    "\n",
    "            input_list[j] = temp\n",
    "            \n",
    "# Reduza a lacuna para o próximo elemento\n",
    "        gap = gap//2\n",
    "\n",
    "list = [19,2,31,45,30,11,121,27]\n",
    "\n",
    "shellSort(list)\n",
    "print(list)"
   ]
  },
  {
   "attachments": {},
   "cell_type": "markdown",
   "metadata": {},
   "source": [
    "#### Selection Sort\n",
    "---"
   ]
  },
  {
   "attachments": {},
   "cell_type": "markdown",
   "metadata": {},
   "source": [
    "Na ordenação por seleção, começamos encontrando o valor mínimo em uma determinada lista e o movemos para uma lista ordenada. Em seguida, repetimos o processo para cada um dos elementos restantes na lista não classificada. O próximo elemento entrando na lista ordenada é comparado com os elementos existentes e colocado em sua posição correta. Portanto, no final, todos os elementos da lista não classificada são classificados."
   ]
  },
  {
   "cell_type": "code",
   "execution_count": 5,
   "metadata": {},
   "outputs": [
    {
     "name": "stdout",
     "output_type": "stream",
     "text": [
      "[19, 2, 31, 45, 30, 11, 121, 27]\n"
     ]
    }
   ],
   "source": [
    "def selection_sort(input_list):\n",
    "    \n",
    "    for idx in range(len(input_list)):\n",
    "        min_idx = idx\n",
    "    \n",
    "    for j in range( idx +1, len(input_list)):\n",
    "        if input_list[min_idx] > input_list[j]:\n",
    "            min_idx = j\n",
    "\n",
    "# Troque o valor mínimo pelo valor comparado\n",
    "    input_list[idx], input_list[min_idx] = input_list[min_idx], input_list[idx]\n",
    "\n",
    "l = [19,2,31,45,30,11,121,27]\n",
    "\n",
    "selection_sort(l)\n",
    "print(l)"
   ]
  },
  {
   "cell_type": "code",
   "execution_count": 6,
   "metadata": {},
   "outputs": [
    {
     "name": "stdout",
     "output_type": "stream",
     "text": [
      "Author: Caique Miranda\n",
      "\n",
      "Github username: caiquemiranda\n",
      "\n"
     ]
    }
   ],
   "source": [
    "%reload_ext watermark\n",
    "%watermark -a \"Caique Miranda\" -gu \"caiquemiranda\" -iv"
   ]
  },
  {
   "attachments": {},
   "cell_type": "markdown",
   "metadata": {},
   "source": [
    "### END."
   ]
  }
 ],
 "metadata": {
  "kernelspec": {
   "display_name": "Python 3",
   "language": "python",
   "name": "python3"
  },
  "language_info": {
   "codemirror_mode": {
    "name": "ipython",
    "version": 3
   },
   "file_extension": ".py",
   "mimetype": "text/x-python",
   "name": "python",
   "nbconvert_exporter": "python",
   "pygments_lexer": "ipython3",
   "version": "3.10.5"
  },
  "orig_nbformat": 4,
  "vscode": {
   "interpreter": {
    "hash": "74af3d2f25f1e46ebd2903d59225d79e4675ec224d56c01fc30cd168c2010d53"
   }
  }
 },
 "nbformat": 4,
 "nbformat_minor": 2
}
