{
 "cells": [
  {
   "attachments": {},
   "cell_type": "markdown",
   "metadata": {},
   "source": [
    "### Bubble Sort"
   ]
  },
  {
   "cell_type": "code",
   "execution_count": 3,
   "metadata": {},
   "outputs": [
    {
     "name": "stdout",
     "output_type": "stream",
     "text": [
      "[2, 6, 11, 19, 27, 31, 45, 121]\n"
     ]
    }
   ],
   "source": [
    "def bubblesort(list):\n",
    "    \n",
    "    # Swap the elements to arrange in order\n",
    "    for iter_num in range(len(list)-1,0,-1):\n",
    "        \n",
    "        for idx in range(iter_num):\n",
    "            \n",
    "            if list[idx]>list[idx+1]:\n",
    "                temp = list[idx]\n",
    "                list[idx] = list[idx+1]\n",
    "                list[idx+1] = temp\n",
    "\n",
    "list = [19,2,31,45,6,11,121,27]\n",
    "\n",
    "bubblesort(list)\n",
    "print(list)"
   ]
  },
  {
   "attachments": {},
   "cell_type": "markdown",
   "metadata": {},
   "source": [
    "### Merge Sort"
   ]
  },
  {
   "cell_type": "code",
   "execution_count": null,
   "metadata": {},
   "outputs": [],
   "source": [
    "def merge_sort(unsorted_list):\n",
    "    \n",
    "    if len(unsorted_list) <= 1:\n",
    "        return unsorted_list\n",
    "\n",
    "    # Find the middle point and devide it\n",
    "    middle = len(unsorted_list) // 2\n",
    "\n",
    "    left_list = unsorted_list[:middle]\n",
    "    right_list = unsorted_list[middle:]\n",
    "\n",
    "    left_list = merge_sort(left_list)\n",
    "    right_list = merge_sort(right_list)\n",
    "\n",
    "    return list(merge(left_list, right_list))\n",
    "\n",
    "# Merge the sorted halves\n",
    "def merge(left_half,right_half):\n",
    "\n",
    "    res = []\n",
    "    \n",
    "    while len(left_half) != 0 and len(right_half) != 0:\n",
    "\n",
    "        if left_half[0] < right_half[0]:\n",
    "            res.append(left_half[0])\n",
    "            left_half.remove(left_half[0])\n",
    "    \n",
    "        else:\n",
    "            res.append(right_half[0])\n",
    "            right_half.remove(right_half[0])\n",
    "    \n",
    "    if len(left_half) == 0:\n",
    "        res = res + right_half\n",
    "    \n",
    "    else:\n",
    "        res = res + left_half\n",
    "    \n",
    "    return res\n",
    "\n",
    "unsorted_list = [64, 34, 25, 12, 22, 11, 90]\n",
    "\n",
    "print(merge_sort(unsorted_list))"
   ]
  },
  {
   "attachments": {},
   "cell_type": "markdown",
   "metadata": {},
   "source": [
    "### Insertion Sort"
   ]
  },
  {
   "cell_type": "code",
   "execution_count": 5,
   "metadata": {},
   "outputs": [
    {
     "name": "stdout",
     "output_type": "stream",
     "text": [
      "[19, 2, 31, 45, 30, 11, 27, 121]\n"
     ]
    }
   ],
   "source": [
    "def insertion_sort(InputList):\n",
    "    for i in range(1, len(InputList)):\n",
    "        j = i-1\n",
    "        nxt_element = InputList[i]\n",
    "\n",
    "# Compare the current element with next one\n",
    "    while (InputList[j] > nxt_element) and (j >= 0):\n",
    "\n",
    "        InputList[j+1] = InputList[j]\n",
    "        j=j-1\n",
    "\n",
    "    InputList[j+1] = nxt_element\n",
    "\n",
    "list = [19,2,31,45,30,11,121,27]\n",
    "\n",
    "insertion_sort(list)\n",
    "print(list)"
   ]
  },
  {
   "attachments": {},
   "cell_type": "markdown",
   "metadata": {},
   "source": [
    "### Shell Sort"
   ]
  },
  {
   "cell_type": "code",
   "execution_count": 6,
   "metadata": {},
   "outputs": [
    {
     "name": "stdout",
     "output_type": "stream",
     "text": [
      "[2, 11, 19, 27, 30, 31, 45, 121]\n"
     ]
    }
   ],
   "source": [
    "def shellSort(input_list):\n",
    "    \n",
    "    gap = len(input_list) // 2\n",
    "    \n",
    "    while gap > 0:\n",
    "        for i in range(gap, len(input_list)):\n",
    "            temp = input_list[i]\n",
    "            j = i\n",
    "            \n",
    "            # Sort the sub list for this gap\n",
    "            while j >= gap and input_list[j - gap] > temp:\n",
    "                input_list[j] = input_list[j - gap]\n",
    "                j = j-gap\n",
    "\n",
    "            input_list[j] = temp\n",
    "            \n",
    "# Reduce the gap for the next element\n",
    "        gap = gap//2\n",
    "\n",
    "list = [19,2,31,45,30,11,121,27]\n",
    "\n",
    "shellSort(list)\n",
    "print(list)"
   ]
  },
  {
   "attachments": {},
   "cell_type": "markdown",
   "metadata": {},
   "source": [
    "### Selection Sort"
   ]
  },
  {
   "cell_type": "code",
   "execution_count": 7,
   "metadata": {},
   "outputs": [
    {
     "name": "stdout",
     "output_type": "stream",
     "text": [
      "[19, 2, 31, 45, 30, 11, 121, 27]\n"
     ]
    }
   ],
   "source": [
    "def selection_sort(input_list):\n",
    "    \n",
    "    for idx in range(len(input_list)):\n",
    "        min_idx = idx\n",
    "    \n",
    "    for j in range( idx +1, len(input_list)):\n",
    "        if input_list[min_idx] > input_list[j]:\n",
    "            min_idx = j\n",
    "\n",
    "# Swap the minimum value with the compared value\n",
    "    input_list[idx], input_list[min_idx] = input_list[min_idx], input_list[idx]\n",
    "\n",
    "l = [19,2,31,45,30,11,121,27]\n",
    "\n",
    "selection_sort(l)\n",
    "print(l)"
   ]
  },
  {
   "cell_type": "code",
   "execution_count": 8,
   "metadata": {},
   "outputs": [
    {
     "name": "stdout",
     "output_type": "stream",
     "text": [
      "Author: Caique Miranda\n",
      "\n",
      "Github username: caiquemiranda\n",
      "\n",
      "sys: 3.10.5 (tags/v3.10.5:f377153, Jun  6 2022, 16:14:13) [MSC v.1929 64 bit (AMD64)]\n",
      "\n"
     ]
    }
   ],
   "source": [
    "%reload_ext watermark\n",
    "%watermark -a \"Caique Miranda\" -gu \"caiquemiranda\" -iv"
   ]
  },
  {
   "attachments": {},
   "cell_type": "markdown",
   "metadata": {},
   "source": [
    "### END."
   ]
  }
 ],
 "metadata": {
  "kernelspec": {
   "display_name": "Python 3",
   "language": "python",
   "name": "python3"
  },
  "language_info": {
   "codemirror_mode": {
    "name": "ipython",
    "version": 3
   },
   "file_extension": ".py",
   "mimetype": "text/x-python",
   "name": "python",
   "nbconvert_exporter": "python",
   "pygments_lexer": "ipython3",
   "version": "3.10.5"
  },
  "orig_nbformat": 4,
  "vscode": {
   "interpreter": {
    "hash": "74af3d2f25f1e46ebd2903d59225d79e4675ec224d56c01fc30cd168c2010d53"
   }
  }
 },
 "nbformat": 4,
 "nbformat_minor": 2
}
