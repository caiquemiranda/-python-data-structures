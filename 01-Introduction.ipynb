{
 "cells": [
  {
   "attachments": {},
   "cell_type": "markdown",
   "metadata": {},
   "source": [
    "### Estruturas de Dados Python – Introdução"
   ]
  },
  {
   "attachments": {},
   "cell_type": "markdown",
   "metadata": {},
   "source": [
    "Aqui, vamos entender o que é estrutura de dados em relação à linguagem de programação Python."
   ]
  },
  {
   "attachments": {},
   "cell_type": "markdown",
   "metadata": {},
   "source": [
    "Visão geral das estruturas de dados,\n",
    "Estruturas de dados são conceitos fundamentais da ciência da computação, que auxiliam na escrita de programas\n",
    "eficientes em qualquer linguagem. Python é uma linguagem de script de alto nível, interpretada, interativa e orientada a\n",
    "objetos. Portanto, usando a linguagem python, podemos estudar os fundamentos da estrutura de dados de maneira mais\n",
    "simples em comparação com outras linguagens de programação."
   ]
  },
  {
   "attachments": {},
   "cell_type": "markdown",
   "metadata": {},
   "source": [
    "Neste capítulo, estudaremos uma breve visão geral de algumas estruturas de dados usadas com frequência em geral e\n",
    "como elas estão relacionadas a alguns tipos de dados Python específicos. Existem também algumas estruturas de dados\n",
    "específicas para python que são listadas como outra categoria."
   ]
  },
  {
   "attachments": {},
   "cell_type": "markdown",
   "metadata": {},
   "source": [
    "Estruturas Gerais de Dados"
   ]
  },
  {
   "attachments": {},
   "cell_type": "markdown",
   "metadata": {},
   "source": [
    "As várias estruturas de dados na ciência da computação são divididas amplamente em duas categorias, conforme\n",
    "mostrado abaixo. Discutiremos sobre cada uma das estruturas de dados abaixo em detalhes nos capítulos subsequentes."
   ]
  },
  {
   "attachments": {},
   "cell_type": "markdown",
   "metadata": {},
   "source": [
    "#### Estruturas de dados lineares"
   ]
  },
  {
   "cell_type": "markdown",
   "metadata": {},
   "source": []
  },
  {
   "cell_type": "markdown",
   "metadata": {},
   "source": []
  },
  {
   "cell_type": "markdown",
   "metadata": {},
   "source": [
    "Liner Data Structures\n",
    "---\n",
    "These are the data structures which store the data elements in a sequential manner.\n",
    "- Array: It is a sequential arrangement of data elements paired with the index of the data element.\n",
    "- Linked List: Each data element contains a link to another element, along with the data present in it.\n",
    "- Stack: It is a data structure, which follows only to specific order of operation. LIFO (last in First Out) or FILO(First in Last Out).\n",
    "- Queue: It is similar to Stack, but the order of operation is only FIFO (First In First Out).\n",
    "- Matrix: It is two dimensional data structure in which, the data element is referred by a pair of indices."
   ]
  },
  {
   "cell_type": "markdown",
   "metadata": {},
   "source": [
    "Non-Liner Data Structures\n",
    "---\n",
    "These are the data structures in which, there is no sequential linking of data elements. Any pair or group of data elements can be linked to each other and can be accessed without a strict sequence.\n",
    "- Binary Tree: It is a data structure, where each data element can be connected to maximum two other data elements and it starts with a root node.\n",
    "- Heap: It is a special case of Tree data structure, where the data in the parent node is either strictly greater than/ equal to the child nodes or strictly less than its child nodes.\n",
    "- Hash Table: It is a data structure, which is made of arrays associated with each other using a hash function. It retrieves values using keys rather than, index from a data element.\n",
    "- Graph: It is an arrangement of vertices and nodes, where some of the nodes are connected to each other through links."
   ]
  },
  {
   "cell_type": "markdown",
   "metadata": {},
   "source": [
    "Python Specific Data Structures\n",
    "---\n",
    "These data structures are specific to python language and they give greater flexibility in storing different types of data and faster processing in python environment.\n",
    "- List: It is similar to array with the exception, that the data elements can be of different data types. You can have both numeric and string data in a python list.\n",
    "- Tuple: Tuples are similar to lists, but they are immutable which means, the values in a tuple cannot be modified they can only be read.\n",
    "- Dictionary: The dictionary contains Key-value pairs as its data elements."
   ]
  },
  {
   "cell_type": "markdown",
   "metadata": {},
   "source": [
    "### End."
   ]
  }
 ],
 "metadata": {
  "kernelspec": {
   "display_name": "Python 3.10.5 64-bit",
   "language": "python",
   "name": "python3"
  },
  "language_info": {
   "name": "python",
   "version": "3.10.5"
  },
  "orig_nbformat": 4,
  "vscode": {
   "interpreter": {
    "hash": "74af3d2f25f1e46ebd2903d59225d79e4675ec224d56c01fc30cd168c2010d53"
   }
  }
 },
 "nbformat": 4,
 "nbformat_minor": 2
}
