{
 "cells": [
  {
   "attachments": {},
   "cell_type": "markdown",
   "metadata": {},
   "source": [
    "### Estruturas de Dados Python – Introdução"
   ]
  },
  {
   "attachments": {},
   "cell_type": "markdown",
   "metadata": {},
   "source": [
    "Aqui, vamos entender o que é estrutura de dados em relação à linguagem de programação Python."
   ]
  },
  {
   "attachments": {},
   "cell_type": "markdown",
   "metadata": {},
   "source": [
    "#### Visão geral das estruturas de dados\n",
    "---"
   ]
  },
  {
   "attachments": {},
   "cell_type": "markdown",
   "metadata": {},
   "source": [
    "Estruturas de dados são conceitos fundamentais da ciência da computação, que auxiliam na escrita de programas eficientes em qualquer linguagem. Python é uma linguagem de script de alto nível, interpretada, interativa e orientada a objetos. Portanto, usando a linguagem python, podemos estudar os fundamentos da estrutura de dados de maneira mais simples em comparação com outras linguagens de programação."
   ]
  },
  {
   "attachments": {},
   "cell_type": "markdown",
   "metadata": {},
   "source": [
    "Estudaremos uma breve visão geral de algumas estruturas de dados usadas com frequência em geral e como elas estão relacionadas a alguns tipos de dados Python específicos. Existem também algumas estruturas de dados específicas para python que são listadas como outra categoria."
   ]
  },
  {
   "attachments": {},
   "cell_type": "markdown",
   "metadata": {},
   "source": [
    "#### Estruturas Gerais de Dados\n",
    "---"
   ]
  },
  {
   "attachments": {},
   "cell_type": "markdown",
   "metadata": {},
   "source": [
    "As várias estruturas de dados na ciência da computação são divididas amplamente em duas categorias, conforme mostrado abaixo. Discutiremos sobre cada uma das estruturas de dados abaixo em detalhes nos capítulos subsequentes."
   ]
  },
  {
   "attachments": {},
   "cell_type": "markdown",
   "metadata": {},
   "source": [
    "#### Estruturas de dados lineares"
   ]
  },
  {
   "attachments": {},
   "cell_type": "markdown",
   "metadata": {},
   "source": [
    "Estas são as estruturas de dados que armazenam os elementos de dados de maneira sequencial.\n",
    "\n",
    "- Array: É um arranjo sequencial de elementos de dados emparelhados com o índice do elemento de dados.\n",
    "- Lista vinculada: cada elemento de dados contém um link para outro elemento, junto com o dados nele presentes.\n",
    "- Pilha: É uma estrutura de dados, que segue apenas uma ordem específica de operação. LIFO (último a sair) ou FILO (primeiro a entrar, último a sair).\n",
    "- Queue: É semelhante ao Stack, mas a ordem de operação é apenas FIFO (First In First Fora).\n",
    "- Matriz: É uma estrutura de dados bidimensional na qual, o elemento de dados é referido por um par de índices"
   ]
  },
  {
   "attachments": {},
   "cell_type": "markdown",
   "metadata": {},
   "source": [
    "#### Estruturas de dados não lineares"
   ]
  },
  {
   "attachments": {},
   "cell_type": "markdown",
   "metadata": {},
   "source": [
    "Estas são as estruturas de dados nas quais não há ligação sequencial de elementos de dados. Qualquer par ou grupo de elementos de dados pode ser vinculado entre si e pode ser acessado sem uma sequência estrita."
   ]
  },
  {
   "attachments": {},
   "cell_type": "markdown",
   "metadata": {},
   "source": [
    "- Árvore Binária: É uma estrutura de dados, onde cada elemento de dados pode ser conectado no máximo dois outros elementos de dados e começa com um nó raiz.\n",
    "- Heap: É um caso especial de estrutura de dados em Árvore, onde os dados no nó pai é estritamente maior que/igual aos nós filhos ou estritamente menor que seu filho nós.\n",
    "- Tabela Hash: É uma estrutura de dados, composta por arrays associados entre si por meio de uma função hash. Ele recupera valores usando chaves em vez de índice de um elemento de dados.\n",
    "- Grafo: É um arranjo de vértices e nós, onde alguns dos nós são conectados uns aos outros através de links."
   ]
  },
  {
   "attachments": {},
   "cell_type": "markdown",
   "metadata": {},
   "source": [
    "#### Estruturas de dados específicas do Python\n",
    "---"
   ]
  },
  {
   "attachments": {},
   "cell_type": "markdown",
   "metadata": {},
   "source": [
    "Essas estruturas de dados são específicas da linguagem python e oferecem maior flexibilidade no armazenamento de diferentes tipos de dados e processamento mais rápido no ambiente python."
   ]
  },
  {
   "attachments": {},
   "cell_type": "markdown",
   "metadata": {},
   "source": [
    "- List: É semelhante ao array com a exceção de que os elementos de dados podem ser de tipos de dados diferentes. Você pode ter dados numéricos e de string em uma lista Python.\n",
    "- Tupla: As tuplas são semelhantes às listas, mas são imutáveis, o que significa que os valores em uma tupla não podem ser modificados, eles só podem ser lidos.\n",
    "- Dicionário: O dicionário contém pares chave-valor como seus elementos de dados "
   ]
  },
  {
   "attachments": {},
   "cell_type": "markdown",
   "metadata": {},
   "source": [
    "Nos próximos capítulos, aprenderemos os detalhes de como cada uma dessas estruturas de dados pode ser implementada usando Python."
   ]
  },
  {
   "attachments": {},
   "cell_type": "markdown",
   "metadata": {},
   "source": [
    "### End."
   ]
  }
 ],
 "metadata": {
  "kernelspec": {
   "display_name": "Python 3.10.5 64-bit",
   "language": "python",
   "name": "python3"
  },
  "language_info": {
   "name": "python",
   "version": "3.10.5"
  },
  "orig_nbformat": 4,
  "vscode": {
   "interpreter": {
    "hash": "74af3d2f25f1e46ebd2903d59225d79e4675ec224d56c01fc30cd168c2010d53"
   }
  }
 },
 "nbformat": 4,
 "nbformat_minor": 2
}
