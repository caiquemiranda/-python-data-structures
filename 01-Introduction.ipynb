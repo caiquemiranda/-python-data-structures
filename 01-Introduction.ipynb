{
 "cells": [
  {
   "cell_type": "markdown",
   "metadata": {},
   "source": [
    "Liner Data Structures\n",
    "---\n",
    "These are the data structures which store the data elements in a sequential manner.\n",
    "- Array: It is a sequential arrangement of data elements paired with the index of the data element.\n",
    "- Linked List: Each data element contains a link to another element, along with the data present in it.\n",
    "- Stack: It is a data structure, which follows only to specific order of operation. LIFO (last in First Out) or FILO(First in Last Out).\n",
    "- Queue: It is similar to Stack, but the order of operation is only FIFO (First In First Out).\n",
    "- Matrix: It is two dimensional data structure in which, the data element is referred by a pair of indices."
   ]
  },
  {
   "cell_type": "markdown",
   "metadata": {},
   "source": [
    "Non-Liner Data Structures\n",
    "---\n",
    "These are the data structures in which, there is no sequential linking of data elements. Any pair or group of data elements can be linked to each other and can be accessed without a strict sequence.\n",
    "- Binary Tree: It is a data structure, where each data element can be connected to maximum two other data elements and it starts with a root node.\n",
    "- Heap: It is a special case of Tree data structure, where the data in the parent node is either strictly greater than/ equal to the child nodes or strictly less than its child nodes.\n",
    "- Hash Table: It is a data structure, which is made of arrays associated with each other using a hash function. It retrieves values using keys rather than, index from a data element.\n",
    "- Graph: It is an arrangement of vertices and nodes, where some of the nodes are connected to each other through links."
   ]
  },
  {
   "cell_type": "markdown",
   "metadata": {},
   "source": [
    "Python Specific Data Structures\n",
    "---\n",
    "These data structures are specific to python language and they give greater flexibility in storing different types of data and faster processing in python environment.\n",
    "- List: It is similar to array with the exception, that the data elements can be of different data types. You can have both numeric and string data in a python list.\n",
    "- Tuple: Tuples are similar to lists, but they are immutable which means, the values in a tuple cannot be modified they can only be read.\n",
    "- Dictionary: The dictionary contains Key-value pairs as its data elements."
   ]
  },
  {
   "cell_type": "markdown",
   "metadata": {},
   "source": [
    "### End."
   ]
  }
 ],
 "metadata": {
  "kernelspec": {
   "display_name": "Python 3.10.5 64-bit",
   "language": "python",
   "name": "python3"
  },
  "language_info": {
   "name": "python",
   "version": "3.10.5"
  },
  "orig_nbformat": 4,
  "vscode": {
   "interpreter": {
    "hash": "74af3d2f25f1e46ebd2903d59225d79e4675ec224d56c01fc30cd168c2010d53"
   }
  }
 },
 "nbformat": 4,
 "nbformat_minor": 2
}
