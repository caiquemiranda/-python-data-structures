{
 "cells": [
  {
   "attachments": {},
   "cell_type": "markdown",
   "metadata": {},
   "source": [
    "### Estruturas de Dados Python – Tabela Hash"
   ]
  },
  {
   "attachments": {},
   "cell_type": "markdown",
   "metadata": {},
   "source": [
    "As tabelas hash são um tipo de estrutura de dados, na qual o endereço ou o valor do índice do elemento de\n",
    "dados é gerado a partir de uma função hash. Isso torna o acesso aos dados mais rápido, pois o valor do índice\n",
    "se comporta como uma chave para o valor dos dados. Em outras palavras, a tabela Hash armazena pares\n",
    "chave-valor, mas a chave é gerada por meio de uma função hash."
   ]
  },
  {
   "attachments": {},
   "cell_type": "markdown",
   "metadata": {},
   "source": [
    "Assim, a função de busca e inserção de um elemento de dados torna-se muito mais rápida, pois os próprios\n",
    "valores-chave se tornam o índice da matriz que armazena os dados."
   ]
  },
  {
   "attachments": {},
   "cell_type": "markdown",
   "metadata": {},
   "source": [
    "Em Python, os tipos de dados Dictionary representam a implementação de tabelas hash. As chaves no\n",
    "dicionário atendem aos seguintes requisitos. \n",
    "- As chaves do dicionário são hashable, ou seja, são geradas pela função hash, que gera resultado único para cada valor único fornecido ao hash função.\n",
    "- ordem dos elementos de dados em um dicionário não é fixa."
   ]
  },
  {
   "attachments": {},
   "cell_type": "markdown",
   "metadata": {},
   "source": [
    "Portanto, vemos a implementação da tabela de hash usando os tipos de dados do dicionário conforme abaixo"
   ]
  },
  {
   "attachments": {},
   "cell_type": "markdown",
   "metadata": {},
   "source": [
    "#### Acessando Valores no Dicionário\n",
    "---"
   ]
  },
  {
   "attachments": {},
   "cell_type": "markdown",
   "metadata": {},
   "source": [
    "Para acessar os elementos do dicionário, você pode usar os familiares colchetes junto com a chave para obter\n",
    "seu valor."
   ]
  },
  {
   "cell_type": "code",
   "execution_count": 1,
   "metadata": {},
   "outputs": [
    {
     "name": "stdout",
     "output_type": "stream",
     "text": [
      "dict['Name']:  Zara\n",
      "dict['Age']:  7\n"
     ]
    }
   ],
   "source": [
    "# Declara um dicionário\n",
    "\n",
    "dict = {'Nome': 'Lucas', \n",
    "        'Idade': 45, \n",
    "        'Classe': 'Primeira'}\n",
    "\n",
    "# Acessando o dicionário com sua chave\n",
    "print(\"dict['Nome']: \", dict['Nome'])\n",
    "print(\"dict['Idade']: \", dict['Idade'])"
   ]
  },
  {
   "attachments": {},
   "cell_type": "markdown",
   "metadata": {},
   "source": [
    "#### Atualizando dicionário\n",
    "---"
   ]
  },
  {
   "attachments": {},
   "cell_type": "markdown",
   "metadata": {},
   "source": [
    "Você pode atualizar um dicionário adicionando uma nova entrada ou um par chave-valor, modificando uma\n",
    "entrada existente ou excluindo uma entrada existente conforme mostrado abaixo no exemplo simples:"
   ]
  },
  {
   "cell_type": "code",
   "execution_count": 2,
   "metadata": {},
   "outputs": [
    {
     "name": "stdout",
     "output_type": "stream",
     "text": [
      "dict['Age']:  8\n",
      "dict['School']:  DPS School\n"
     ]
    }
   ],
   "source": [
    "# Declara um dicionário\n",
    "\n",
    "dict = {'Nome': 'Lucas', \n",
    "        'Idade': 45, \n",
    "        'Classe': 'Primeira'}\n",
    "\n",
    "dict['Idade'] = 13; # atualiza a entrada existente\n",
    "dict['colege'] = \"FF colege\"; # Adicionar nova entrada\n",
    "\n",
    "print(\"dict['Idade']: \", dict['Idade'])\n",
    "print(\"dict['colege']: \", dict['colege'])"
   ]
  },
  {
   "attachments": {},
   "cell_type": "markdown",
   "metadata": {},
   "source": [
    "#### Excluir Elementos do Dicionário\n",
    "---"
   ]
  },
  {
   "cell_type": "code",
   "execution_count": 3,
   "metadata": {},
   "outputs": [
    {
     "name": "stdout",
     "output_type": "stream",
     "text": [
      "dict['Age']:  dict['Age']\n",
      "dict['School']:  dict['School']\n"
     ]
    }
   ],
   "source": [
    "dict = {'Name': 'Zara', 'Age': 7, 'Class': 'First'}\n",
    "del dict['Name']; # remove entry with key 'Name'\n",
    "\n",
    "dict.clear(); # remove all entries in dict\n",
    "del dict ; # delete entire dictionary\n",
    "\n",
    "print(\"dict['Age']: \", dict['Age'])\n",
    "print(\"dict['School']: \", dict['School'])"
   ]
  },
  {
   "cell_type": "code",
   "execution_count": 4,
   "metadata": {},
   "outputs": [
    {
     "name": "stdout",
     "output_type": "stream",
     "text": [
      "Author: Caique Miranda\n",
      "\n",
      "Github username: caiquemiranda\n",
      "\n",
      "sys: 3.10.5 (tags/v3.10.5:f377153, Jun  6 2022, 16:14:13) [MSC v.1929 64 bit (AMD64)]\n",
      "\n"
     ]
    }
   ],
   "source": [
    "%reload_ext watermark\n",
    "%watermark -a \"Caique Miranda\" -gu \"caiquemiranda\" -iv"
   ]
  },
  {
   "cell_type": "markdown",
   "metadata": {},
   "source": [
    "### End."
   ]
  }
 ],
 "metadata": {
  "kernelspec": {
   "display_name": "Python 3.10.5 64-bit",
   "language": "python",
   "name": "python3"
  },
  "language_info": {
   "codemirror_mode": {
    "name": "ipython",
    "version": 3
   },
   "file_extension": ".py",
   "mimetype": "text/x-python",
   "name": "python",
   "nbconvert_exporter": "python",
   "pygments_lexer": "ipython3",
   "version": "3.10.5"
  },
  "orig_nbformat": 4,
  "vscode": {
   "interpreter": {
    "hash": "74af3d2f25f1e46ebd2903d59225d79e4675ec224d56c01fc30cd168c2010d53"
   }
  }
 },
 "nbformat": 4,
 "nbformat_minor": 2
}
