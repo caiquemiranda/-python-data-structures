{
 "cells": [
  {
   "attachments": {},
   "cell_type": "markdown",
   "metadata": {},
   "source": [
    "### Estruturas de Dados Python – Algoritmos Gráficos"
   ]
  },
  {
   "attachments": {},
   "cell_type": "markdown",
   "metadata": {},
   "source": [
    "Os gráficos são estruturas de dados muito úteis na resolução de muitos desafios matemáticos importantes. Por exemplo, topologia de rede de computadores ou análise de estruturas moleculares de compostos químicos. Eles também são usados no trânsito da cidade ou no planejamento de rotas e até mesmo nas línguas humanas e sua gramática. Todas essas aplicações têm em comum o desafio de percorrer o grafo usando suas arestas e garantir que todos os nós dos grafos sejam visitados. Existem dois métodos comuns estabelecidos para fazer esta travessia que é descrita abaixo."
   ]
  },
  {
   "attachments": {},
   "cell_type": "markdown",
   "metadata": {},
   "source": [
    "#### Primeira Travessia de Profundidade\n",
    "---"
   ]
  },
  {
   "attachments": {},
   "cell_type": "markdown",
   "metadata": {},
   "source": [
    "Também chamado de pesquisa em profundidade (DFS), esse algoritmo percorre um gráfico em um movimento de profundidade e usa uma pilha para lembrar de obter o próximo vértice para iniciar uma pesquisa, quando ocorre um beco sem saída em qualquer iteração. Implementamos o DFS para um gráfico em python usando os tipos de dados definidos, pois eles fornecem as funcionalidades necessárias para rastrear os nós visitados e não visitados."
   ]
  },
  {
   "cell_type": "code",
   "execution_count": 1,
   "metadata": {},
   "outputs": [
    {
     "name": "stdout",
     "output_type": "stream",
     "text": [
      "a\n",
      "c\n",
      "d\n",
      "e\n",
      "b\n"
     ]
    },
    {
     "data": {
      "text/plain": [
       "{'a', 'b', 'c', 'd', 'e'}"
      ]
     },
     "execution_count": 1,
     "metadata": {},
     "output_type": "execute_result"
    }
   ],
   "source": [
    "class graph:\n",
    "    def __init__(self,gdict=None):\n",
    "        \n",
    "        if gdict is None:\n",
    "            gdict = {}\n",
    "        \n",
    "        self.gdict = gdict\n",
    "\n",
    "# Verifica os nós visitados e não visitados\n",
    "def dfs(graph, start, visited = None):\n",
    "    \n",
    "    if visited is None:\n",
    "        visited = set()\n",
    "    \n",
    "    visited.add(start)\n",
    "    \n",
    "    print(start)\n",
    "    \n",
    "    for next in graph[start] - visited:\n",
    "        dfs(graph, next, visited)\n",
    "    \n",
    "    return visited\n",
    "\n",
    "gdict = { \"a\" : set([\"b\",\"c\"]),\n",
    "          \"b\" : set([\"a\", \"d\"]),\n",
    "          \"c\" : set([\"a\", \"d\"]),\n",
    "          \"d\" : set([\"e\"]),\n",
    "          \"e\" : set([\"a\"])\n",
    "          }\n",
    "\n",
    "dfs(gdict, 'a')"
   ]
  },
  {
   "attachments": {},
   "cell_type": "markdown",
   "metadata": {},
   "source": [
    "#### Primeira Travessia\n",
    "---"
   ]
  },
  {
   "attachments": {},
   "cell_type": "markdown",
   "metadata": {},
   "source": [
    "Também chamado de pesquisa em largura (BFS), esse algoritmo percorre um movimento de largura de\n",
    "gráfico e usa uma fila para lembrar de obter o próximo vértice para iniciar uma pesquisa, quando ocorre um\n",
    "beco sem saída em qualquer iteração. Visite este link em nosso site para entender os detalhes das etapas\n",
    "do BFS para um gráfico."
   ]
  },
  {
   "attachments": {},
   "cell_type": "markdown",
   "metadata": {},
   "source": [
    "Implementamos o BFS para um grafo em python usando a estrutura de dados de fila discutida anteriormente. Quando continuamos visitando os nós não visitados adjacentes e continuamos adicionando-os à fila. Então começamos a deque apenas o nó que ficou sem nós não visitados. Paramos o programa quando não há próximo nó adjacente a ser visitado."
   ]
  },
  {
   "cell_type": "code",
   "execution_count": 2,
   "metadata": {},
   "outputs": [
    {
     "name": "stdout",
     "output_type": "stream",
     "text": [
      "a\n",
      "c\n",
      "b\n",
      "d\n",
      "e\n"
     ]
    }
   ],
   "source": [
    "import collections\n",
    "\n",
    "class graph:\n",
    "    \n",
    "    def __init__(self,gdict=None):\n",
    "        \n",
    "        if gdict is None:\n",
    "            gdict = {}\n",
    "        \n",
    "        self.gdict = gdict\n",
    "\n",
    "def bfs(graph, startnode):\n",
    "# Rastreie os nós visitados e não visitados usando a fila\n",
    "    seen, queue = set([startnode]), collections.deque([startnode])\n",
    "    while queue:\n",
    "        vertex = queue.popleft()\n",
    "        marked(vertex)\n",
    "\n",
    "        for node in graph[vertex]:\n",
    "            \n",
    "            if node not in seen:\n",
    "                seen.add(node)\n",
    "                queue.append(node)\n",
    "\n",
    "def marked(n):\n",
    "    print(n)\n",
    "\n",
    "# O dicionário gráfico\n",
    "gdict = { \"a\" : set([\"b\",\"c\"]),\n",
    "          \"b\" : set([\"a\", \"d\"]),\n",
    "          \"c\" : set([\"a\", \"d\"]),\n",
    "          \"d\" : set([\"e\"]),\n",
    "          \"e\" : set([\"a\"])\n",
    "        }\n",
    "\n",
    "bfs(gdict, \"a\")"
   ]
  },
  {
   "cell_type": "code",
   "execution_count": 3,
   "metadata": {},
   "outputs": [
    {
     "name": "stdout",
     "output_type": "stream",
     "text": [
      "Author: Caique Miranda\n",
      "\n",
      "Github username: caiquemiranda\n",
      "\n"
     ]
    }
   ],
   "source": [
    "%reload_ext watermark\n",
    "%watermark -a \"Caique Miranda\" -gu \"caiquemiranda\" -iv"
   ]
  },
  {
   "attachments": {},
   "cell_type": "markdown",
   "metadata": {},
   "source": [
    "### End."
   ]
  }
 ],
 "metadata": {
  "kernelspec": {
   "display_name": "Python 3",
   "language": "python",
   "name": "python3"
  },
  "language_info": {
   "codemirror_mode": {
    "name": "ipython",
    "version": 3
   },
   "file_extension": ".py",
   "mimetype": "text/x-python",
   "name": "python",
   "nbconvert_exporter": "python",
   "pygments_lexer": "ipython3",
   "version": "3.10.5"
  },
  "orig_nbformat": 4,
  "vscode": {
   "interpreter": {
    "hash": "74af3d2f25f1e46ebd2903d59225d79e4675ec224d56c01fc30cd168c2010d53"
   }
  }
 },
 "nbformat": 4,
 "nbformat_minor": 2
}
