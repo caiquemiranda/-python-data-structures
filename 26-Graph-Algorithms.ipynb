{
 "cells": [
  {
   "attachments": {},
   "cell_type": "markdown",
   "metadata": {},
   "source": [
    "### Depth First Traversal"
   ]
  },
  {
   "cell_type": "code",
   "execution_count": 1,
   "metadata": {},
   "outputs": [
    {
     "name": "stdout",
     "output_type": "stream",
     "text": [
      "a\n",
      "b\n",
      "d\n",
      "e\n",
      "c\n"
     ]
    },
    {
     "data": {
      "text/plain": [
       "{'a', 'b', 'c', 'd', 'e'}"
      ]
     },
     "execution_count": 1,
     "metadata": {},
     "output_type": "execute_result"
    }
   ],
   "source": [
    "class graph:\n",
    "    def __init__(self,gdict=None):\n",
    "        \n",
    "        if gdict is None:\n",
    "            gdict = {}\n",
    "        \n",
    "        self.gdict = gdict\n",
    "\n",
    "# Check for the visisted and unvisited nodes\n",
    "def dfs(graph, start, visited = None):\n",
    "    \n",
    "    if visited is None:\n",
    "        visited = set()\n",
    "    \n",
    "    visited.add(start)\n",
    "    \n",
    "    print(start)\n",
    "    \n",
    "    for next in graph[start] - visited:\n",
    "        dfs(graph, next, visited)\n",
    "    \n",
    "    return visited\n",
    "\n",
    "gdict = { \"a\" : set([\"b\",\"c\"]),\n",
    "          \"b\" : set([\"a\", \"d\"]),\n",
    "          \"c\" : set([\"a\", \"d\"]),\n",
    "          \"d\" : set([\"e\"]),\n",
    "          \"e\" : set([\"a\"])\n",
    "          }\n",
    "\n",
    "dfs(gdict, 'a')"
   ]
  },
  {
   "attachments": {},
   "cell_type": "markdown",
   "metadata": {},
   "source": [
    "### Breadth First Traversal"
   ]
  },
  {
   "cell_type": "code",
   "execution_count": 2,
   "metadata": {},
   "outputs": [
    {
     "name": "stdout",
     "output_type": "stream",
     "text": [
      "a\n",
      "b\n",
      "c\n",
      "d\n",
      "e\n"
     ]
    }
   ],
   "source": [
    "import collections\n",
    "\n",
    "class graph:\n",
    "    \n",
    "    def __init__(self,gdict=None):\n",
    "        \n",
    "        if gdict is None:\n",
    "            gdict = {}\n",
    "        \n",
    "        self.gdict = gdict\n",
    "\n",
    "def bfs(graph, startnode):\n",
    "# Track the visited and unvisited nodes using queue\n",
    "    seen, queue = set([startnode]), collections.deque([startnode])\n",
    "    while queue:\n",
    "        vertex = queue.popleft()\n",
    "        marked(vertex)\n",
    "\n",
    "        for node in graph[vertex]:\n",
    "            \n",
    "            if node not in seen:\n",
    "                seen.add(node)\n",
    "                queue.append(node)\n",
    "\n",
    "def marked(n):\n",
    "    print(n)\n",
    "\n",
    "# The graph dictionary\n",
    "gdict = { \"a\" : set([\"b\",\"c\"]),\n",
    "          \"b\" : set([\"a\", \"d\"]),\n",
    "          \"c\" : set([\"a\", \"d\"]),\n",
    "          \"d\" : set([\"e\"]),\n",
    "          \"e\" : set([\"a\"])\n",
    "        }\n",
    "\n",
    "bfs(gdict, \"a\")"
   ]
  },
  {
   "cell_type": "code",
   "execution_count": 3,
   "metadata": {},
   "outputs": [
    {
     "name": "stdout",
     "output_type": "stream",
     "text": [
      "Author: Caique Miranda\n",
      "\n",
      "Github username: caiquemiranda\n",
      "\n",
      "sys: 3.10.5 (tags/v3.10.5:f377153, Jun  6 2022, 16:14:13) [MSC v.1929 64 bit (AMD64)]\n",
      "\n"
     ]
    }
   ],
   "source": [
    "%reload_ext watermark\n",
    "%watermark -a \"Caique Miranda\" -gu \"caiquemiranda\" -iv"
   ]
  },
  {
   "attachments": {},
   "cell_type": "markdown",
   "metadata": {},
   "source": [
    "### END."
   ]
  }
 ],
 "metadata": {
  "kernelspec": {
   "display_name": "Python 3",
   "language": "python",
   "name": "python3"
  },
  "language_info": {
   "codemirror_mode": {
    "name": "ipython",
    "version": 3
   },
   "file_extension": ".py",
   "mimetype": "text/x-python",
   "name": "python",
   "nbconvert_exporter": "python",
   "pygments_lexer": "ipython3",
   "version": "3.10.5"
  },
  "orig_nbformat": 4,
  "vscode": {
   "interpreter": {
    "hash": "74af3d2f25f1e46ebd2903d59225d79e4675ec224d56c01fc30cd168c2010d53"
   }
  }
 },
 "nbformat": 4,
 "nbformat_minor": 2
}
