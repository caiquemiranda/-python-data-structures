{
 "cells": [
  {
   "attachments": {},
   "cell_type": "markdown",
   "metadata": {},
   "source": [
    "### Estruturas de Dados Python – Matriz"
   ]
  },
  {
   "attachments": {},
   "cell_type": "markdown",
   "metadata": {},
   "source": [
    "Matrix é um caso especial de array bidimensional, onde cada elemento de dados é estritamente do mesmo\n",
    "tamanho. Portanto, toda matriz também é uma matriz bidimensional, mas não vice-versa."
   ]
  },
  {
   "attachments": {},
   "cell_type": "markdown",
   "metadata": {},
   "source": [
    "As matrizes são estruturas de dados muito importantes para muitos cálculos matemáticos e científicos.\n",
    "Como já discutimos, estrutura de dados de matriz bidimensional no capítulo anterior, vamos nos concentrar\n",
    "nas operações de estrutura de dados específicas para matrizes neste capítulo."
   ]
  },
  {
   "attachments": {},
   "cell_type": "markdown",
   "metadata": {},
   "source": [
    "Também usaremos o pacote numpy para manipulação de dados de matriz."
   ]
  },
  {
   "attachments": {},
   "cell_type": "markdown",
   "metadata": {},
   "source": [
    "#### Exemplo de matriz\n",
    "---"
   ]
  },
  {
   "attachments": {},
   "cell_type": "markdown",
   "metadata": {},
   "source": [
    "Considere o caso de registrar a temperatura durante uma semana medida pela manhã, meio-dia, tarde e\n",
    "meia-noite. Pode ser apresentado como uma matriz 7X5, usando uma matriz e o método reshape disponível\n",
    "em numpy."
   ]
  },
  {
   "cell_type": "code",
   "execution_count": null,
   "metadata": {},
   "outputs": [],
   "source": [
    "from numpy import *\n",
    "\n",
    "a = array([['Mon',18,20,22,17],\n",
    "           ['Tue',11,18,21,18],\n",
    "           ['Wed',15,21,20,19],\n",
    "           ['Thu',11,20,22,21],\n",
    "           ['Fri',18,17,23,22],\n",
    "           ['Sat',12,22,20,18],\n",
    "           ['Sun',13,15,19,16]])\n",
    "\n",
    "m = reshape(a,(7,5))\n",
    "\n",
    "print(m)"
   ]
  },
  {
   "attachments": {},
   "cell_type": "markdown",
   "metadata": {},
   "source": [
    "#### Acessando Valores\n",
    "---"
   ]
  },
  {
   "attachments": {},
   "cell_type": "markdown",
   "metadata": {},
   "source": [
    "Os elementos de dados em uma matriz podem ser acessados usando os índices. Os métodos de acesso\n",
    "são os mesmos, pois os dados são acessados em uma matriz bidimensional."
   ]
  },
  {
   "cell_type": "code",
   "execution_count": null,
   "metadata": {},
   "outputs": [],
   "source": [
    "from numpy import *\n",
    "\n",
    "m = array([['Mon',18,20,22,17],\n",
    "           ['Tue',11,18,21,18],\n",
    "           ['Wed',15,21,20,19],\n",
    "           ['Thu',11,20,22,21],\n",
    "           ['Fri',18,17,23,22],\n",
    "           ['Sat',12,22,20,18],\n",
    "           ['Sun',13,15,19,16]])\n",
    "\n",
    "# Print data for Wednesday\n",
    "print(m[2])\n",
    "\n",
    "# Print data for friday evening\n",
    "print(m[4][3])"
   ]
  },
  {
   "attachments": {},
   "cell_type": "markdown",
   "metadata": {},
   "source": [
    "#### Adicionando uma linha\n",
    "---"
   ]
  },
  {
   "attachments": {},
   "cell_type": "markdown",
   "metadata": {},
   "source": [
    "Use o código abaixo mencionado para adicionar uma linha em uma matriz."
   ]
  },
  {
   "cell_type": "code",
   "execution_count": null,
   "metadata": {},
   "outputs": [],
   "source": [
    "from numpy import *\n",
    "\n",
    "m = array([['Mon',18,20,22,17],\n",
    "           ['Tue',11,18,21,18],\n",
    "           ['Wed',15,21,20,19],\n",
    "           ['Thu',11,20,22,21],\n",
    "           ['Fri',18,17,23,22],\n",
    "           ['Sat',12,22,20,18],\n",
    "           ['Sun',13,15,19,16]])\n",
    "\n",
    "m_r = append(m,[['Avg',12,15,13,11]],0)\n",
    "print(m_r)"
   ]
  },
  {
   "attachments": {},
   "cell_type": "markdown",
   "metadata": {},
   "source": [
    "#### Adicionando uma coluna"
   ]
  },
  {
   "attachments": {},
   "cell_type": "markdown",
   "metadata": {},
   "source": [
    "Podemos adicionar colunas a uma matriz usando o método `insert()`. Aqui, temos que mencionar o índice,\n",
    "onde queremos adicionar a coluna e um array contendo os novos valores das colunas adicionadas. No\n",
    "exemplo abaixo, adicionamos uma nova coluna na quinta posição desde o início."
   ]
  },
  {
   "cell_type": "code",
   "execution_count": null,
   "metadata": {},
   "outputs": [],
   "source": [
    "from numpy import *\n",
    "\n",
    "m = array([['Mon',18,20,22,17],\n",
    "           ['Tue',11,18,21,18],\n",
    "           ['Wed',15,21,20,19],\n",
    "           ['Thu',11,20,22,21],\n",
    "           ['Fri',18,17,23,22],\n",
    "           ['Sat',12,22,20,18],\n",
    "           ['Sun',13,15,19,16]])\n",
    "\n",
    "m_c = insert(m,[5],[[1],[2],[3],[4],[5],[6],[7]],1)\n",
    "print(m_c)"
   ]
  },
  {
   "attachments": {},
   "cell_type": "markdown",
   "metadata": {},
   "source": [
    "#### Excluir uma linha"
   ]
  },
  {
   "attachments": {},
   "cell_type": "markdown",
   "metadata": {},
   "source": [
    "Podemos deletar uma linha de uma matriz usando o método `delete()`. Temos que especificar o índice da\n",
    "linha e também o valor do eixo, que é 0 para uma linha e 1 para uma coluna."
   ]
  },
  {
   "cell_type": "code",
   "execution_count": null,
   "metadata": {},
   "outputs": [],
   "source": [
    "from numpy import *\n",
    "\n",
    "m = array([['Mon',18,20,22,17],\n",
    "           ['Tue',11,18,21,18],\n",
    "           ['Wed',15,21,20,19],\n",
    "           ['Thu',11,20,22,21],\n",
    "           ['Fri',18,17,23,22],\n",
    "           ['Sat',12,22,20,18],\n",
    "           ['Sun',13,15,19,16]])\n",
    "\n",
    "m = delete(m,[2],0)\n",
    "print(m)"
   ]
  },
  {
   "attachments": {},
   "cell_type": "markdown",
   "metadata": {},
   "source": [
    "#### Excluir uma coluna\n",
    "---"
   ]
  },
  {
   "attachments": {},
   "cell_type": "markdown",
   "metadata": {},
   "source": [
    "Podemos deletar uma coluna de uma matriz usando o método `delete()`. Temos que especificar o índice da coluna e também\n",
    "o valor do eixo, que é 0 para uma linha e 1 para uma coluna."
   ]
  },
  {
   "cell_type": "code",
   "execution_count": null,
   "metadata": {},
   "outputs": [],
   "source": [
    "from numpy import *\n",
    "\n",
    "m = array([['Mon',18,20,22,17],\n",
    "           ['Tue',11,18,21,18],\n",
    "           ['Wed',15,21,20,19],\n",
    "           ['Thu',11,20,22,21],\n",
    "           ['Fri',18,17,23,22],\n",
    "           ['Sat',12,22,20,18],\n",
    "           ['Sun',13,15,19,16]])\n",
    "\n",
    "m = delete(m,s_[2],1)\n",
    "print(m)"
   ]
  },
  {
   "attachments": {},
   "cell_type": "markdown",
   "metadata": {},
   "source": [
    "#### Atualizar uma linha\n",
    "---"
   ]
  },
  {
   "attachments": {},
   "cell_type": "markdown",
   "metadata": {},
   "source": [
    "Para atualizar os valores na linha de uma matriz, simplesmente reatribuímos os valores no índice\n",
    "da linha. No exemplo abaixo, todos os valores para os dados de quinta-feira são marcados como zero. O índice para esta linha é 3."
   ]
  },
  {
   "cell_type": "code",
   "execution_count": null,
   "metadata": {},
   "outputs": [],
   "source": [
    "from numpy import *\n",
    "\n",
    "m = array([['Mon',18,20,22,17],\n",
    "           ['Tue',11,18,21,18],\n",
    "           ['Wed',15,21,20,19],\n",
    "           ['Thu',11,20,22,21],\n",
    "           ['Fri',18,17,23,22],\n",
    "           ['Sat',12,22,20,18],\n",
    "           ['Sun',13,15,19,16]])\n",
    "\n",
    "m[3] = ['Thu',0,0,0,0]\n",
    "print(m)"
   ]
  },
  {
   "cell_type": "code",
   "execution_count": null,
   "metadata": {},
   "outputs": [],
   "source": [
    "%reload_ext watermark\n",
    "%watermark -a \"Caique Miranda\" -gu \"caiquemiranda\" -iv"
   ]
  },
  {
   "cell_type": "markdown",
   "metadata": {},
   "source": [
    "### End."
   ]
  }
 ],
 "metadata": {
  "kernelspec": {
   "display_name": "Python 3.10.5 64-bit",
   "language": "python",
   "name": "python3"
  },
  "language_info": {
   "codemirror_mode": {
    "name": "ipython",
    "version": 3
   },
   "file_extension": ".py",
   "mimetype": "text/x-python",
   "name": "python",
   "nbconvert_exporter": "python",
   "pygments_lexer": "ipython3",
   "version": "3.10.5"
  },
  "orig_nbformat": 4,
  "vscode": {
   "interpreter": {
    "hash": "74af3d2f25f1e46ebd2903d59225d79e4675ec224d56c01fc30cd168c2010d53"
   }
  }
 },
 "nbformat": 4,
 "nbformat_minor": 2
}
