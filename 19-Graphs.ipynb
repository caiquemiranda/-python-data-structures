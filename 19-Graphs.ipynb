{
 "cells": [
  {
   "attachments": {},
   "cell_type": "markdown",
   "metadata": {},
   "source": [
    "### Estruturas de Dados Python – Graphs"
   ]
  },
  {
   "attachments": {},
   "cell_type": "markdown",
   "metadata": {},
   "source": [
    "Um Graphs é uma representação pictórica de um conjunto de objetos onde alguns pares de objetos são\n",
    "conectados por links. Os objetos interconectados são representados por pontos denominados como vértices,\n",
    "e os links que conectam os vértices são chamados de arestas. Os vários termos e funcionalidades\n",
    "associados a um gráfico são descritos em detalhes em nosso tutorial aqui."
   ]
  },
  {
   "attachments": {},
   "cell_type": "markdown",
   "metadata": {},
   "source": [
    "veremos como criar um gráfico e adicionar vários elementos de dados a ele usando um\n",
    "programa Python. A seguir estão as operações básicas que realizamos em gráficos."
   ]
  },
  {
   "attachments": {},
   "cell_type": "markdown",
   "metadata": {},
   "source": [
    "- Exibir vértices do graphs\n",
    "- Exibir arestas do graphs\n",
    "- Adicionar um vértice\n",
    "- Criação de um graphs"
   ]
  },
  {
   "attachments": {},
   "cell_type": "markdown",
   "metadata": {},
   "source": [
    "Um gráfico pode ser facilmente apresentado usando os tipos de dados do dicionário Python.\n",
    "Representamos os vértices como as chaves do dicionário e a conexão entre os vértices também\n",
    "chamadas de arestas como os valores no dicionário."
   ]
  },
  {
   "cell_type": "code",
   "execution_count": 1,
   "metadata": {},
   "outputs": [
    {
     "name": "stdout",
     "output_type": "stream",
     "text": [
      "{'a': ['b', 'c'], 'b': ['a', 'd'], 'c': ['a', 'd'], 'd': ['e'], 'e': ['d']}\n"
     ]
    }
   ],
   "source": [
    "# cria o dicionário com elementos graph\n",
    "graph = { \"a\" : [\"b\",\"c\"],\n",
    "          \"b\" : [\"a\", \"d\"],\n",
    "          \"c\" : [\"a\", \"d\"],\n",
    "          \"d\" : [\"e\"],\n",
    "          \"e\" : [\"d\"]\n",
    "          }\n",
    "\n",
    "# imprime o grafico\n",
    "print(graph)"
   ]
  },
  {
   "attachments": {},
   "cell_type": "markdown",
   "metadata": {},
   "source": [
    "#### Exibir vértices do gráfico\n",
    "---"
   ]
  },
  {
   "attachments": {},
   "cell_type": "markdown",
   "metadata": {},
   "source": [
    "Para exibir os vértices do grafo, simplesmente encontramos as chaves do dicionário de grafos. Usamos\n",
    "o método `keys()`."
   ]
  },
  {
   "cell_type": "code",
   "execution_count": 2,
   "metadata": {},
   "outputs": [
    {
     "name": "stdout",
     "output_type": "stream",
     "text": [
      "['a', 'b', 'c', 'd', 'e']\n"
     ]
    }
   ],
   "source": [
    "class graph:\n",
    "    def __init__(self,gdict=None):\n",
    "        \n",
    "        if gdict is None:\n",
    "            gdict = []\n",
    "        \n",
    "        self.gdict = gdict\n",
    "\n",
    "# Pega as chaves do dicionário\n",
    "    def getVertices(self):\n",
    "        return list(self.gdict.keys())\n",
    "\n",
    "# Cria o dicionário com elementos gráficos\n",
    "graph_elements = {  \"a\" : [\"b\",\"c\"],\n",
    "                    \"b\" : [\"a\", \"d\"],\n",
    "                    \"c\" : [\"a\", \"d\"],\n",
    "                    \"d\" : [\"e\"],\n",
    "                    \"e\" : [\"d\"]\n",
    "                 }\n",
    "\n",
    "g = graph(graph_elements)\n",
    "\n",
    "print(g.getVertices())"
   ]
  },
  {
   "attachments": {},
   "cell_type": "markdown",
   "metadata": {},
   "source": [
    "#### Exibir arestas do graph\n",
    "---"
   ]
  },
  {
   "attachments": {},
   "cell_type": "markdown",
   "metadata": {},
   "source": [
    "Encontrar as arestas do gráfico é um pouco mais complicado do que os vértices, pois temos que encontrar\n",
    "cada um dos pares de vértices que possuem uma aresta entre eles. Portanto, criamos uma lista vazia de\n",
    "arestas e iteramos pelos valores de aresta associados a cada um dos vértices. Uma lista é formada contendo\n",
    "o grupo distinto de arestas encontradas a partir dos vértices."
   ]
  },
  {
   "cell_type": "code",
   "execution_count": 3,
   "metadata": {},
   "outputs": [
    {
     "name": "stdout",
     "output_type": "stream",
     "text": [
      "[{'a', 'b'}, {'a', 'c'}, {'d', 'b'}, {'d', 'c'}, {'e', 'd'}]\n"
     ]
    }
   ],
   "source": [
    "class graph:\n",
    "    def __init__(self,gdict=None):\n",
    "        \n",
    "        if gdict is None:\n",
    "            gdict = {}\n",
    "        \n",
    "        self.gdict = gdict\n",
    "    \n",
    "    def edges(self):\n",
    "        \n",
    "        return self.findedges()\n",
    "\n",
    "# Encontra a lista distinta de arestas\n",
    "    def findedges(self):\n",
    "        edgename = []\n",
    "    \n",
    "        for vrtx in self.gdict:\n",
    "    \n",
    "            for nxtvrtx in self.gdict[vrtx]:\n",
    "    \n",
    "                if {nxtvrtx, vrtx} not in edgename:\n",
    "                    edgename.append({vrtx, nxtvrtx})\n",
    "        return edgename\n",
    "\n",
    "# Cria o dicionário com elementos gráficos\n",
    "graph_elements = {  \"a\" : [\"b\",\"c\"],\n",
    "                    \"b\" : [\"a\", \"d\"],\n",
    "                    \"c\" : [\"a\", \"d\"],\n",
    "                    \"d\" : [\"e\"],\n",
    "                    \"e\" : [\"d\"]\n",
    "                 }\n",
    "\n",
    "g = graph(graph_elements)\n",
    "\n",
    "print(g.edges())"
   ]
  },
  {
   "attachments": {},
   "cell_type": "markdown",
   "metadata": {},
   "source": [
    "#### Adicionando um vértice\n",
    "---"
   ]
  },
  {
   "attachments": {},
   "cell_type": "markdown",
   "metadata": {},
   "source": [
    "Adicionar um vértice é direto, onde adicionamos outra chave adicional ao dicionário do grafo."
   ]
  },
  {
   "cell_type": "code",
   "execution_count": 4,
   "metadata": {},
   "outputs": [
    {
     "name": "stdout",
     "output_type": "stream",
     "text": [
      "['a', 'b', 'c', 'd', 'e', 'f']\n"
     ]
    }
   ],
   "source": [
    "class graph:\n",
    "    \n",
    "    def __init__(self,gdict=None):\n",
    "        \n",
    "        if gdict is None:\n",
    "            gdict = {}\n",
    "        \n",
    "        self.gdict = gdict\n",
    "\n",
    "    def getVertices(self):\n",
    "        \n",
    "        return list(self.gdict.keys())\n",
    "\n",
    "# Adicione o vértice como uma chave\n",
    "    def addVertex(self, vrtx):\n",
    "\n",
    "        if vrtx not in self.gdict:\n",
    "\n",
    "            self.gdict[vrtx] = []\n",
    "\n",
    "# Cria o dicionário com elementos gráficos\n",
    "graph_elements = {  \"a\" : [\"b\",\"c\"],\n",
    "                    \"b\" : [\"a\", \"d\"],\n",
    "                    \"c\" : [\"a\", \"d\"],\n",
    "                    \"d\" : [\"e\"],\n",
    "                    \"e\" : [\"d\"]\n",
    "                    }\n",
    "\n",
    "g = graph(graph_elements)\n",
    "g.addVertex(\"f\")\n",
    "print(g.getVertices())"
   ]
  },
  {
   "attachments": {},
   "cell_type": "markdown",
   "metadata": {},
   "source": [
    "#### Adicionando uma aresta\n",
    "---"
   ]
  },
  {
   "cell_type": "code",
   "execution_count": 5,
   "metadata": {},
   "outputs": [
    {
     "name": "stdout",
     "output_type": "stream",
     "text": [
      "[{'a', 'b'}, {'a', 'c'}, {'a', 'e'}, {'d', 'b'}, {'d', 'c'}, {'e', 'd'}]\n"
     ]
    }
   ],
   "source": [
    "class graph:\n",
    "    def __init__(self,gdict=None):\n",
    "        \n",
    "        if gdict is None:\n",
    "            gdict = {}\n",
    "        \n",
    "        self.gdict = gdict\n",
    "\n",
    "    def edges(self):\n",
    "        \n",
    "        return self.findedges()\n",
    "\n",
    "# Adicione a nova aresta\n",
    "    def AddEdge(self, edge):\n",
    "\n",
    "        edge = set(edge)\n",
    "        (vrtx1, vrtx2) = tuple(edge)\n",
    "\n",
    "        if vrtx1 in self.gdict:\n",
    "            self.gdict[vrtx1].append(vrtx2)\n",
    "        \n",
    "        else:\n",
    "            self.gdict[vrtx1] = [vrtx2]\n",
    "# Lista os nomes das arestas\n",
    "    def findedges(self):\n",
    "        \n",
    "        edgename = []\n",
    "        \n",
    "        for vrtx in self.gdict:\n",
    "        \n",
    "            for nxtvrtx in self.gdict[vrtx]:\n",
    "        \n",
    "                if {nxtvrtx, vrtx} not in edgename:\n",
    "                    edgename.append({vrtx, nxtvrtx})\n",
    "        \n",
    "        return edgename\n",
    "\n",
    "# Cria o dicionário com elementos gráficos\n",
    "graph_elements = {  \"a\" : [\"b\",\"c\"],\n",
    "                    \"b\" : [\"a\", \"d\"],\n",
    "                    \"c\" : [\"a\", \"d\"],\n",
    "                    \"d\" : [\"e\"],\n",
    "                    \"e\" : [\"d\"]\n",
    "                    }\n",
    "\n",
    "g = graph(graph_elements)\n",
    "g.AddEdge({'a','e'})\n",
    "g.AddEdge({'a','c'})\n",
    "print(g.edges())"
   ]
  },
  {
   "cell_type": "code",
   "execution_count": 6,
   "metadata": {},
   "outputs": [
    {
     "name": "stdout",
     "output_type": "stream",
     "text": [
      "Author: Caique Miranda\n",
      "\n",
      "Github username: caiquemiranda\n",
      "\n"
     ]
    }
   ],
   "source": [
    "%reload_ext watermark\n",
    "%watermark -a \"Caique Miranda\" -gu \"caiquemiranda\" -iv"
   ]
  },
  {
   "attachments": {},
   "cell_type": "markdown",
   "metadata": {},
   "source": [
    "### END."
   ]
  }
 ],
 "metadata": {
  "kernelspec": {
   "display_name": "Python 3",
   "language": "python",
   "name": "python3"
  },
  "language_info": {
   "codemirror_mode": {
    "name": "ipython",
    "version": 3
   },
   "file_extension": ".py",
   "mimetype": "text/x-python",
   "name": "python",
   "nbconvert_exporter": "python",
   "pygments_lexer": "ipython3",
   "version": "3.10.5"
  },
  "orig_nbformat": 4,
  "vscode": {
   "interpreter": {
    "hash": "74af3d2f25f1e46ebd2903d59225d79e4675ec224d56c01fc30cd168c2010d53"
   }
  }
 },
 "nbformat": 4,
 "nbformat_minor": 2
}
