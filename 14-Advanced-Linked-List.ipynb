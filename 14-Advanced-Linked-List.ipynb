{
 "cells": [
  {
   "cell_type": "markdown",
   "metadata": {},
   "source": [
    "### Creating Doubly linked list"
   ]
  },
  {
   "cell_type": "code",
   "execution_count": 1,
   "metadata": {},
   "outputs": [
    {
     "name": "stdout",
     "output_type": "stream",
     "text": [
      "62\n",
      "8\n",
      "12\n"
     ]
    }
   ],
   "source": [
    "class Node:\n",
    "    def __init__(self, data):\n",
    "        self.data = data\n",
    "        self.next = None\n",
    "        self.prev = None\n",
    "\n",
    "class doubly_linked_list:\n",
    "    def __init__(self):\n",
    "        self.head = None\n",
    "\n",
    "    # Adding data elements\n",
    "    def push(self, NewVal):\n",
    "        NewNode = Node(NewVal)\n",
    "        NewNode.next = self.head\n",
    "        if self.head is not None:\n",
    "            self.head.prev = NewNode\n",
    "        self.head = NewNode\n",
    "    # Print the Doubly Linked list\n",
    "    def listprint(self, node):\n",
    "        while (node is not None):\n",
    "            print(node.data),\n",
    "            last = node\n",
    "            node = node.next\n",
    "  \n",
    "dllist = doubly_linked_list()\n",
    "\n",
    "dllist.push(12)\n",
    "dllist.push(8)\n",
    "dllist.push(62)\n",
    "\n",
    "dllist.listprint(dllist.head)"
   ]
  },
  {
   "cell_type": "markdown",
   "metadata": {},
   "source": [
    "### Inserting into Doubly Linked List"
   ]
  },
  {
   "cell_type": "code",
   "execution_count": 2,
   "metadata": {},
   "outputs": [
    {
     "name": "stdout",
     "output_type": "stream",
     "text": [
      "62\n",
      "8\n",
      "13\n",
      "12\n"
     ]
    }
   ],
   "source": [
    "# Create the Node class\n",
    "class Node:\n",
    "    def __init__(self, data):\n",
    "        self.data = data\n",
    "        self.next = None\n",
    "        self.prev = None\n",
    "\n",
    "# Create the doubly linked list\n",
    "class doubly_linked_list:\n",
    "    def __init__(self):\n",
    "        self.head = None\n",
    "    \n",
    "    # Define the push method to add elements\n",
    "    def push(self, NewVal):\n",
    "        \n",
    "        NewNode = Node(NewVal)\n",
    "        NewNode.next = self.head\n",
    "        \n",
    "        if self.head is not None:\n",
    "            self.head.prev = NewNode\n",
    "        self.head = NewNode\n",
    "        \n",
    "    # Define the insert method to insert the element\n",
    "    def insert(self, prev_node, NewVal):\n",
    "        if prev_node is None:\n",
    "            return\n",
    "        \n",
    "        NewNode = Node(NewVal)\n",
    "        NewNode.next = prev_node.next\n",
    "        prev_node.next = NewNode\n",
    "        NewNode.prev = prev_node\n",
    "        if NewNode.next is not None:\n",
    "            NewNode.next.prev = NewNode\n",
    "\n",
    "    # Define the method to print the linked list\n",
    "    def listprint(self, node):\n",
    "        while (node is not None):\n",
    "            print(node.data),\n",
    "            last = node\n",
    "            node = node.next\n",
    "\n",
    "dllist = doubly_linked_list()\n",
    "\n",
    "dllist.push(12)\n",
    "dllist.push(8)\n",
    "dllist.push(62)\n",
    "\n",
    "dllist.insert(dllist.head.next, 13)\n",
    "dllist.listprint(dllist.head)"
   ]
  },
  {
   "cell_type": "markdown",
   "metadata": {},
   "source": [
    "### Appending to a Doubly linked list"
   ]
  },
  {
   "cell_type": "code",
   "execution_count": 3,
   "metadata": {},
   "outputs": [
    {
     "name": "stdout",
     "output_type": "stream",
     "text": [
      "62\n",
      "8\n",
      "12\n",
      "9\n",
      "45\n"
     ]
    }
   ],
   "source": [
    "# Create the node class\n",
    "class Node:\n",
    "    def __init__(self, data):\n",
    "        self.data = data\n",
    "        self.next = None\n",
    "        self.prev = None\n",
    "\n",
    "# Create the doubly linked list class\n",
    "class doubly_linked_list:\n",
    "    def __init__(self):\n",
    "        self.head = None\n",
    "    \n",
    "    # Define the push method to add elements at the begining\n",
    "    def push(self, NewVal):\n",
    "        NewNode = Node(NewVal)\n",
    "        NewNode.next = self.head\n",
    "        \n",
    "        if self.head is not None:\n",
    "            self.head.prev = NewNode\n",
    "        self.head = NewNode\n",
    "    \n",
    "    # Define the append method to add elements at the end\n",
    "    def append(self, NewVal):\n",
    "\n",
    "        NewNode = Node(NewVal)\n",
    "        NewNode.next = None\n",
    "        \n",
    "        if self.head is None:\n",
    "            NewNode.prev = None\n",
    "            self.head = NewNode\n",
    "        \n",
    "            return\n",
    "        \n",
    "        last = self.head\n",
    "        \n",
    "        while (last.next is not None):\n",
    "        \n",
    "            last = last.next\n",
    "        \n",
    "        last.next = NewNode\n",
    "        NewNode.prev = last\n",
    "        return\n",
    "\n",
    "    # Define the method to print\n",
    "    def listprint(self, node):\n",
    "\n",
    "        while (node is not None):\n",
    "\n",
    "            print(node.data),\n",
    "            last = node\n",
    "            node = node.next\n",
    "\n",
    "dllist = doubly_linked_list()\n",
    "\n",
    "dllist.push(12)\n",
    "dllist.append(9)\n",
    "dllist.push(8)\n",
    "dllist.push(62)\n",
    "dllist.append(45)\n",
    "\n",
    "dllist.listprint(dllist.head)"
   ]
  },
  {
   "cell_type": "code",
   "execution_count": 4,
   "metadata": {},
   "outputs": [
    {
     "name": "stdout",
     "output_type": "stream",
     "text": [
      "Author: Caique Miranda\n",
      "\n",
      "Github username: caiquemiranda\n",
      "\n",
      "sys: 3.10.5 (tags/v3.10.5:f377153, Jun  6 2022, 16:14:13) [MSC v.1929 64 bit (AMD64)]\n",
      "\n"
     ]
    }
   ],
   "source": [
    "%reload_ext watermark\n",
    "%watermark -a \"Caique Miranda\" -gu \"caiquemiranda\" -iv"
   ]
  },
  {
   "cell_type": "markdown",
   "metadata": {},
   "source": [
    "### End."
   ]
  }
 ],
 "metadata": {
  "kernelspec": {
   "display_name": "Python 3.10.5 64-bit",
   "language": "python",
   "name": "python3"
  },
  "language_info": {
   "codemirror_mode": {
    "name": "ipython",
    "version": 3
   },
   "file_extension": ".py",
   "mimetype": "text/x-python",
   "name": "python",
   "nbconvert_exporter": "python",
   "pygments_lexer": "ipython3",
   "version": "3.10.5"
  },
  "orig_nbformat": 4,
  "vscode": {
   "interpreter": {
    "hash": "74af3d2f25f1e46ebd2903d59225d79e4675ec224d56c01fc30cd168c2010d53"
   }
  }
 },
 "nbformat": 4,
 "nbformat_minor": 2
}
