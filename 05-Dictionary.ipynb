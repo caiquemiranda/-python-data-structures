{
 "cells": [
  {
   "attachments": {},
   "cell_type": "markdown",
   "metadata": {},
   "source": [
    "### Estruturas de Dados Python – Dicionário"
   ]
  },
  {
   "attachments": {},
   "cell_type": "markdown",
   "metadata": {},
   "source": [
    "No Dicionário, cada chave é separada de seu valor por dois pontos (:), os itens são separados por vírgulas e tudo é colocado entre chaves. Um dicionário vazio sem nenhum item é escrito com apenas duas chaves, assim: {}."
   ]
  },
  {
   "attachments": {},
   "cell_type": "markdown",
   "metadata": {},
   "source": [
    "As chaves são únicas dentro de um dicionário, enquanto os valores podem não ser. Os valores de um dicionário podem ser de qualquer tipo, mas as chaves devem ser de um tipo de dados imutável, como strings, números ou tuplas."
   ]
  },
  {
   "attachments": {},
   "cell_type": "markdown",
   "metadata": {},
   "source": [
    "#### Acessando Valores no Dicionário\n",
    "---"
   ]
  },
  {
   "attachments": {},
   "cell_type": "markdown",
   "metadata": {},
   "source": [
    "Para acessar os elementos do dicionário, você pode usar os familiares colchetes junto com a chave para obter seu valor."
   ]
  },
  {
   "attachments": {},
   "cell_type": "markdown",
   "metadata": {},
   "source": [
    "Um exemplo simples é o seguinte:"
   ]
  },
  {
   "cell_type": "code",
   "execution_count": 1,
   "metadata": {},
   "outputs": [
    {
     "name": "stdout",
     "output_type": "stream",
     "text": [
      "dict['Nome']:  Raul\n",
      "dict['Idade']:  7\n"
     ]
    }
   ],
   "source": [
    "#!/usr/bin/python\n",
    "\n",
    "dict = {'Nome': 'Raul', \n",
    "        'Idade': 7, \n",
    "        'Classe': 'Primeira'}\n",
    "\n",
    "print(\"dict['Nome']: \", dict['Nome'])\n",
    "print(\"dict['Idade']: \", dict['Idade'])"
   ]
  },
  {
   "attachments": {},
   "cell_type": "markdown",
   "metadata": {},
   "source": [
    "Se tentarmos acessar um item de dados com uma chave, que não faz parte do dicionário, obtemos o seguinte erro:"
   ]
  },
  {
   "cell_type": "code",
   "execution_count": 2,
   "metadata": {},
   "outputs": [
    {
     "ename": "KeyError",
     "evalue": "'Alan'",
     "output_type": "error",
     "traceback": [
      "\u001b[1;31m---------------------------------------------------------------------------\u001b[0m",
      "\u001b[1;31mKeyError\u001b[0m                                  Traceback (most recent call last)",
      "\u001b[1;32md:\\GIT-repository\\github-python-data-structures\\python-data-structures\\05-Dictionary.ipynb Cell 9\u001b[0m in \u001b[0;36m<cell line: 7>\u001b[1;34m()\u001b[0m\n\u001b[0;32m      <a href='vscode-notebook-cell:/d%3A/GIT-repository/github-python-data-structures/python-data-structures/05-Dictionary.ipynb#W2sZmlsZQ%3D%3D?line=0'>1</a>\u001b[0m \u001b[39m#!/usr/bin/python\u001b[39;00m\n\u001b[0;32m      <a href='vscode-notebook-cell:/d%3A/GIT-repository/github-python-data-structures/python-data-structures/05-Dictionary.ipynb#W2sZmlsZQ%3D%3D?line=2'>3</a>\u001b[0m \u001b[39mdict\u001b[39m \u001b[39m=\u001b[39m {\u001b[39m'\u001b[39m\u001b[39mNome\u001b[39m\u001b[39m'\u001b[39m: \u001b[39m'\u001b[39m\u001b[39mRaul\u001b[39m\u001b[39m'\u001b[39m, \n\u001b[0;32m      <a href='vscode-notebook-cell:/d%3A/GIT-repository/github-python-data-structures/python-data-structures/05-Dictionary.ipynb#W2sZmlsZQ%3D%3D?line=3'>4</a>\u001b[0m         \u001b[39m'\u001b[39m\u001b[39mIdade\u001b[39m\u001b[39m'\u001b[39m: \u001b[39m7\u001b[39m, \n\u001b[0;32m      <a href='vscode-notebook-cell:/d%3A/GIT-repository/github-python-data-structures/python-data-structures/05-Dictionary.ipynb#W2sZmlsZQ%3D%3D?line=4'>5</a>\u001b[0m         \u001b[39m'\u001b[39m\u001b[39mClasse\u001b[39m\u001b[39m'\u001b[39m: \u001b[39m'\u001b[39m\u001b[39mPrimeira\u001b[39m\u001b[39m'\u001b[39m}\n\u001b[1;32m----> <a href='vscode-notebook-cell:/d%3A/GIT-repository/github-python-data-structures/python-data-structures/05-Dictionary.ipynb#W2sZmlsZQ%3D%3D?line=6'>7</a>\u001b[0m \u001b[39mprint\u001b[39m(\u001b[39m\"\u001b[39m\u001b[39mdict[\u001b[39m\u001b[39m'\u001b[39m\u001b[39mAlan\u001b[39m\u001b[39m'\u001b[39m\u001b[39m]: \u001b[39m\u001b[39m\"\u001b[39m, \u001b[39mdict\u001b[39;49m[\u001b[39m'\u001b[39;49m\u001b[39mAlan\u001b[39;49m\u001b[39m'\u001b[39;49m])\n",
      "\u001b[1;31mKeyError\u001b[0m: 'Alan'"
     ]
    }
   ],
   "source": [
    "#!/usr/bin/python\n",
    "\n",
    "dict = {'Nome': 'Raul', \n",
    "        'Idade': 7, \n",
    "        'Classe': 'Primeira'}\n",
    "\n",
    "print(\"dict['Alan']: \", dict['Alan'])"
   ]
  },
  {
   "attachments": {},
   "cell_type": "markdown",
   "metadata": {},
   "source": [
    "#### Atualizando dicionário\n",
    "---"
   ]
  },
  {
   "attachments": {},
   "cell_type": "markdown",
   "metadata": {},
   "source": [
    "Você pode atualizar um dicionário adicionando uma nova entrada ou um par chave-valor, modificando uma entrada existente ou excluindo uma entrada existente conforme mostrado abaixo no exemplo simples:"
   ]
  },
  {
   "cell_type": "code",
   "execution_count": 3,
   "metadata": {},
   "outputs": [
    {
     "name": "stdout",
     "output_type": "stream",
     "text": [
      "dict['Idade']:  8\n",
      "dict['Colege']:  DT Colege\n"
     ]
    }
   ],
   "source": [
    "#!/usr/bin/python\n",
    "\n",
    "dict = {'Nome': 'Maia', \n",
    "        'Idade': 7, \n",
    "        'Classe': 'Primeira'}\n",
    "\n",
    "dict['Idade'] = 8; # atualiza a entrada existente\n",
    "dict['Colege'] = \"DT Colege\"; # Adicionar nova entrada\n",
    "\n",
    "print(\"dict['Idade']: \", dict['Idade'])\n",
    "print(\"dict['Colege']: \", dict['Colege'])"
   ]
  },
  {
   "attachments": {},
   "cell_type": "markdown",
   "metadata": {},
   "source": [
    "#### Excluir Elementos do Dicionário\n",
    "---"
   ]
  },
  {
   "attachments": {},
   "cell_type": "markdown",
   "metadata": {},
   "source": [
    "Você pode remover elementos individuais do dicionário ou limpar todo o conteúdo de um dicionário. Você também pode excluir todo o dicionário em uma única operação."
   ]
  },
  {
   "attachments": {},
   "cell_type": "markdown",
   "metadata": {},
   "source": [
    "Para remover explicitamente um dicionário inteiro, basta usar a instrução `del` . Um exemplo simples é o mencionado abaixo:"
   ]
  },
  {
   "cell_type": "code",
   "execution_count": 4,
   "metadata": {},
   "outputs": [
    {
     "name": "stdout",
     "output_type": "stream",
     "text": [
      "dict['Idade']:  dict['Idade']\n",
      "dict['Colege']:  dict['Colege']\n"
     ]
    }
   ],
   "source": [
    "#!/usr/bin/python\n",
    "\n",
    "dict = {'Nome': 'Marcos',\n",
    "        'Idade': 20,\n",
    "        'Class': 'First'}\n",
    "\n",
    "del dict['Nome']; # remove a entrada com a chave 'Nome''\n",
    "\n",
    "dict.clear(); # remove todas as entradas no dict\n",
    "\n",
    "del dict ; # exclui todo o dicionário\n",
    "\n",
    "print(\"dict['Idade']: \", dict['Idade'])\n",
    "print(\"dict['Colege']: \", dict['Colege'])"
   ]
  },
  {
   "attachments": {},
   "cell_type": "markdown",
   "metadata": {},
   "source": [
    "Observe que uma exceção é levantada, porque o dicionário del dict não existe"
   ]
  },
  {
   "attachments": {},
   "cell_type": "markdown",
   "metadata": {},
   "source": [
    "#### Propriedades das Keys do dicionário\n",
    "---"
   ]
  },
  {
   "attachments": {},
   "cell_type": "markdown",
   "metadata": {},
   "source": [
    "Os valores do dicionário não têm restrições. Eles podem ser qualquer objeto Python arbitrário, objetos padrão ou objetos definidos pelo usuário. No entanto, o mesmo não é verdade para as chaves."
   ]
  },
  {
   "attachments": {},
   "cell_type": "markdown",
   "metadata": {},
   "source": [
    "Há dois pontos importantes a serem lembrados sobre as chaves do dicionário "
   ]
  },
  {
   "attachments": {},
   "cell_type": "markdown",
   "metadata": {},
   "source": [
    "Não é permitida mais de uma entrada por chave. O que significa que nenhuma chave duplicada é permitida. Quando chaves duplicadas são encontradas durante a atribuição, a última atribuição vence."
   ]
  },
  {
   "attachments": {},
   "cell_type": "markdown",
   "metadata": {},
   "source": [
    "Por exemplo:"
   ]
  },
  {
   "cell_type": "code",
   "execution_count": 5,
   "metadata": {},
   "outputs": [
    {
     "name": "stdout",
     "output_type": "stream",
     "text": [
      "dict['Nome']:  Maria\n"
     ]
    }
   ],
   "source": [
    "#!/usr/bin/python\n",
    "\n",
    "dict = {'Nome': 'Lana', 'Idade': 17, 'Nome': 'Maria'}\n",
    "\n",
    "print(\"dict['Nome']: \", dict['Nome'])"
   ]
  },
  {
   "attachments": {},
   "cell_type": "markdown",
   "metadata": {},
   "source": [
    "As chaves devem ser imutáveis. O que significa que você pode usar strings, números ou tuplas como chaves de dicionário, mas algo como ['key'] não é permitido."
   ]
  },
  {
   "cell_type": "code",
   "execution_count": 6,
   "metadata": {},
   "outputs": [
    {
     "ename": "TypeError",
     "evalue": "unhashable type: 'list'",
     "output_type": "error",
     "traceback": [
      "\u001b[1;31m---------------------------------------------------------------------------\u001b[0m",
      "\u001b[1;31mTypeError\u001b[0m                                 Traceback (most recent call last)",
      "\u001b[1;32md:\\GIT-repository\\github-python-data-structures\\python-data-structures\\05-Dictionary.ipynb Cell 25\u001b[0m in \u001b[0;36m<cell line: 3>\u001b[1;34m()\u001b[0m\n\u001b[0;32m      <a href='vscode-notebook-cell:/d%3A/GIT-repository/github-python-data-structures/python-data-structures/05-Dictionary.ipynb#X12sZmlsZQ%3D%3D?line=0'>1</a>\u001b[0m \u001b[39m#!/usr/bin/python\u001b[39;00m\n\u001b[1;32m----> <a href='vscode-notebook-cell:/d%3A/GIT-repository/github-python-data-structures/python-data-structures/05-Dictionary.ipynb#X12sZmlsZQ%3D%3D?line=2'>3</a>\u001b[0m \u001b[39mdict\u001b[39m \u001b[39m=\u001b[39m {[\u001b[39m'\u001b[39m\u001b[39mNome\u001b[39m\u001b[39m'\u001b[39m]: \u001b[39m'\u001b[39m\u001b[39mLana\u001b[39m\u001b[39m'\u001b[39m, \u001b[39m'\u001b[39m\u001b[39mIdade\u001b[39m\u001b[39m'\u001b[39m: \u001b[39m17\u001b[39m}\n\u001b[0;32m      <a href='vscode-notebook-cell:/d%3A/GIT-repository/github-python-data-structures/python-data-structures/05-Dictionary.ipynb#X12sZmlsZQ%3D%3D?line=4'>5</a>\u001b[0m \u001b[39mprint\u001b[39m(\u001b[39m\"\u001b[39m\u001b[39mdict[\u001b[39m\u001b[39m'\u001b[39m\u001b[39mNome\u001b[39m\u001b[39m'\u001b[39m\u001b[39m]: \u001b[39m\u001b[39m\"\u001b[39m, \u001b[39mdict\u001b[39m[\u001b[39m'\u001b[39m\u001b[39mNome\u001b[39m\u001b[39m'\u001b[39m])\n",
      "\u001b[1;31mTypeError\u001b[0m: unhashable type: 'list'"
     ]
    }
   ],
   "source": [
    "#!/usr/bin/python\n",
    "\n",
    "dict = {['Nome']: 'Lana', 'Idade': 17}\n",
    "\n",
    "print(\"dict['Nome']: \", dict['Nome'])"
   ]
  },
  {
   "cell_type": "code",
   "execution_count": 7,
   "metadata": {},
   "outputs": [
    {
     "name": "stdout",
     "output_type": "stream",
     "text": [
      "Author: Caique Miranda\n",
      "\n",
      "Github username: caiquemiranda\n",
      "\n"
     ]
    }
   ],
   "source": [
    "%reload_ext watermark\n",
    "%watermark -a \"Caique Miranda\" -gu \"caiquemiranda\" -iv"
   ]
  },
  {
   "attachments": {},
   "cell_type": "markdown",
   "metadata": {},
   "source": [
    "### End."
   ]
  }
 ],
 "metadata": {
  "kernelspec": {
   "display_name": "Python 3.10.5 64-bit",
   "language": "python",
   "name": "python3"
  },
  "language_info": {
   "codemirror_mode": {
    "name": "ipython",
    "version": 3
   },
   "file_extension": ".py",
   "mimetype": "text/x-python",
   "name": "python",
   "nbconvert_exporter": "python",
   "pygments_lexer": "ipython3",
   "version": "3.10.5"
  },
  "orig_nbformat": 4,
  "vscode": {
   "interpreter": {
    "hash": "74af3d2f25f1e46ebd2903d59225d79e4675ec224d56c01fc30cd168c2010d53"
   }
  }
 },
 "nbformat": 4,
 "nbformat_minor": 2
}
