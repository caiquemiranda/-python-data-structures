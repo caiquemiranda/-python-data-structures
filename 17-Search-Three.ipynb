{
 "cells": [
  {
   "attachments": {},
   "cell_type": "markdown",
   "metadata": {},
   "source": [
    "### Estruturas de Dados Python – Árvore de Pesquisa"
   ]
  },
  {
   "attachments": {},
   "cell_type": "markdown",
   "metadata": {},
   "source": [
    "Uma Árvore de Pesquisa Binária (BST) é uma árvore, na qual todos os nós seguem as propriedades mencionadas abaixo. A subárvore esquerda de um nó tem uma chave menor ou igual à chave de seu nó pai. A subárvore direita de um nó tem uma chave maior que a chave de seu nó pai. Assim, o BST divide todas as suas subárvores em dois segmentos; a subárvore esquerda e a subárvore direita."
   ]
  },
  {
   "attachments": {},
   "cell_type": "markdown",
   "metadata": {},
   "source": [
    "#### Procure um valor em uma árvore B\n",
    "---"
   ]
  },
  {
   "attachments": {},
   "cell_type": "markdown",
   "metadata": {},
   "source": [
    "Procurar um valor em uma árvore envolve comparar o valor de entrada com o valor que sai dos nós. Aqui também, percorremos os nós da esquerda para a direita e, finalmente, com o pai. Se o valor procurado não corresponder a nenhum dos valores existentes, então retornamos a mensagem não encontrado, ou então a mensagem encontrada é retornada."
   ]
  },
  {
   "cell_type": "code",
   "execution_count": 3,
   "metadata": {},
   "outputs": [
    {
     "name": "stdout",
     "output_type": "stream",
     "text": [
      "7 Não Encontrado\n",
      "14 Foi encontrado\n",
      "None\n",
      "3 Foi encontrado\n",
      "None\n"
     ]
    }
   ],
   "source": [
    "class Node:\n",
    "    def __init__(self, data):\n",
    "        self.left = None\n",
    "        self.right = None\n",
    "        self.data = data\n",
    "\n",
    "    # Inserir método para criar nós\n",
    "    def insert(self, data):\n",
    "        if self.data:\n",
    "            if data < self.data:\n",
    "                if self.left is None:\n",
    "                    self.left = Node(data)\n",
    "                \n",
    "                else:\n",
    "                    self.left.insert(data)\n",
    "    \n",
    "            elif data > self.data:\n",
    "                if self.right is None:\n",
    "                    self.right = Node(data)\n",
    "    \n",
    "                else:\n",
    "                    self.right.insert(data)\n",
    "                \n",
    "            else:\n",
    "                self.data = data\n",
    "    \n",
    "    # método findval para comparar o valor com os nós\n",
    "    def findval(self, lkpval):\n",
    "        if lkpval < self.data:\n",
    "            if self.left is None:\n",
    "                return str(lkpval)+\" Não Encontrado\"\n",
    "        \n",
    "            return self.left.findval(lkpval)\n",
    "        \n",
    "        elif lkpval > self.data:\n",
    "            if self.right is None:\n",
    "                return str(lkpval)+\" Não Encontrado\"\n",
    "            \n",
    "            return self.right.findval(lkpval)\n",
    "        \n",
    "        else:\n",
    "            print(str(self.data) + \" Foi encontrado\")\n",
    "    \n",
    "    # Imprimir a árvore\n",
    "    def PrintTree(self):\n",
    "        if self.left:\n",
    "            self.left.PrintTree()\n",
    "            \n",
    "        print( self.data),\n",
    "        if self.right:\n",
    "            self.right.PrintTree()\n",
    "\n",
    "root = Node(12)\n",
    "\n",
    "root.insert(6)\n",
    "root.insert(14)\n",
    "root.insert(3)\n",
    "\n",
    "print(root.findval(7))\n",
    "print(root.findval(14))\n",
    "print(root.findval(3))"
   ]
  },
  {
   "cell_type": "code",
   "execution_count": 2,
   "metadata": {},
   "outputs": [
    {
     "name": "stdout",
     "output_type": "stream",
     "text": [
      "Author: Caique Miranda\n",
      "\n",
      "Github username: caiquemiranda\n",
      "\n"
     ]
    }
   ],
   "source": [
    "%reload_ext watermark\n",
    "%watermark -a \"Caique Miranda\" -gu \"caiquemiranda\" -iv"
   ]
  },
  {
   "cell_type": "markdown",
   "metadata": {},
   "source": [
    "### End."
   ]
  }
 ],
 "metadata": {
  "kernelspec": {
   "display_name": "Python 3.10.5 64-bit",
   "language": "python",
   "name": "python3"
  },
  "language_info": {
   "codemirror_mode": {
    "name": "ipython",
    "version": 3
   },
   "file_extension": ".py",
   "mimetype": "text/x-python",
   "name": "python",
   "nbconvert_exporter": "python",
   "pygments_lexer": "ipython3",
   "version": "3.10.5"
  },
  "orig_nbformat": 4,
  "vscode": {
   "interpreter": {
    "hash": "74af3d2f25f1e46ebd2903d59225d79e4675ec224d56c01fc30cd168c2010d53"
   }
  }
 },
 "nbformat": 4,
 "nbformat_minor": 2
}
