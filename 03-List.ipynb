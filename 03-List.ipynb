{
 "cells": [
  {
   "attachments": {},
   "cell_type": "markdown",
   "metadata": {},
   "source": [
    "### Estruturas de Dados Python – Listas"
   ]
  },
  {
   "attachments": {},
   "cell_type": "markdown",
   "metadata": {},
   "source": [
    "A lista é um tipo de dados mais versátil disponível em Python, que pode ser escrito como uma lista de valores separados por vírgula (itens) entre colchetes. Uma coisa importante sobre a lista é que os itens em uma lista não precisam ser do mesmo tipo."
   ]
  },
  {
   "attachments": {},
   "cell_type": "markdown",
   "metadata": {},
   "source": [
    "Criar uma lista é tão simples quanto colocar diferentes valores separados por vírgulas entre colchetes."
   ]
  },
  {
   "attachments": {},
   "cell_type": "markdown",
   "metadata": {},
   "source": [
    "Por exemplo:"
   ]
  },
  {
   "cell_type": "code",
   "execution_count": 1,
   "metadata": {},
   "outputs": [],
   "source": [
    "lista1 = ['Física', 'Artes', 1997, 2000]\n",
    "lista2= [1, 2, 3, 4, 5 ]\n",
    "lista3 = [\"a\", \"b\", \"c\", \"d\"]"
   ]
  },
  {
   "attachments": {},
   "cell_type": "markdown",
   "metadata": {},
   "source": [
    "#### Acessando Valores\n",
    "---"
   ]
  },
  {
   "attachments": {},
   "cell_type": "markdown",
   "metadata": {},
   "source": [
    "Para acessar valores em listas, use os colchetes para fatiar junto com o índice ou índices para obter o valor disponível naquele índice."
   ]
  },
  {
   "attachments": {},
   "cell_type": "markdown",
   "metadata": {},
   "source": [
    "Por exemplo:"
   ]
  },
  {
   "cell_type": "code",
   "execution_count": 2,
   "metadata": {},
   "outputs": [
    {
     "name": "stdout",
     "output_type": "stream",
     "text": [
      "lista1[0]:  Física\n",
      "lista2[1:5]:  [2, 3, 4, 5]\n"
     ]
    }
   ],
   "source": [
    "#!/usr/bin/python\n",
    "\n",
    "lista1 = ['Física', 'Artes', 1997, 2000]\n",
    "lista2 = [1, 2, 3, 4, 5, 6, 7 ]\n",
    "\n",
    "print(\"lista1[0]: \", lista1[0])\n",
    "print(\"lista2[1:5]: \", lista2[1:5])"
   ]
  },
  {
   "attachments": {},
   "cell_type": "markdown",
   "metadata": {},
   "source": [
    "#### Atualizando listas\n",
    "---"
   ]
  },
  {
   "attachments": {},
   "cell_type": "markdown",
   "metadata": {},
   "source": [
    "Você pode atualizar elementos únicos ou múltiplos de listas, fornecendo a fatia no lado esquerdo do operador de atribuição e pode adicionar elementos em uma lista com o método `append()`."
   ]
  },
  {
   "attachments": {},
   "cell_type": "markdown",
   "metadata": {},
   "source": [
    "Por exemplo:"
   ]
  },
  {
   "cell_type": "code",
   "execution_count": 3,
   "metadata": {},
   "outputs": [
    {
     "name": "stdout",
     "output_type": "stream",
     "text": [
      "Valor disponível no índice 2 : \n",
      "1997\n",
      "Novo valor disponível no índice 2 : \n",
      "list[2]\n"
     ]
    }
   ],
   "source": [
    "#!/usr/bin/python\n",
    "\n",
    "lista = ['Física', 'Artes', 1997, 2000]\n",
    "\n",
    "print(\"Valor disponível no índice 2 : \")\n",
    "print(lista[2])\n",
    "\n",
    "lista[2] = 2001\n",
    "print(\"Novo valor disponível no índice 2 : \")\n",
    "print(list[2])"
   ]
  },
  {
   "attachments": {},
   "cell_type": "markdown",
   "metadata": {},
   "source": [
    "#### Excluir elementos da lista\n",
    "---"
   ]
  },
  {
   "attachments": {},
   "cell_type": "markdown",
   "metadata": {},
   "source": [
    "Para remover um elemento da lista, você pode usar a instrução del, se souber exatamente quais elementos está excluindo ou o método `remove()`, se não souber."
   ]
  },
  {
   "attachments": {},
   "cell_type": "markdown",
   "metadata": {},
   "source": [
    "Por exemplo:"
   ]
  },
  {
   "cell_type": "code",
   "execution_count": 4,
   "metadata": {},
   "outputs": [
    {
     "name": "stdout",
     "output_type": "stream",
     "text": [
      "['Física', 'Artes', 1997, 2000]\n",
      "Depois de deletar o valor no índice 2 : \n",
      "['Física', 'Artes', 2000]\n"
     ]
    }
   ],
   "source": [
    "#!/usr/bin/python\n",
    "\n",
    "lista1 = ['Física', 'Artes', 1997, 2000]\n",
    "\n",
    "print(lista1)\n",
    "del lista1[2]\n",
    "\n",
    "print(\"Depois de deletar o valor no índice 2 : \")\n",
    "print(lista1)"
   ]
  },
  {
   "attachments": {},
   "cell_type": "markdown",
   "metadata": {},
   "source": [
    "#### Operações básicas de lista\n",
    "---"
   ]
  },
  {
   "attachments": {},
   "cell_type": "markdown",
   "metadata": {},
   "source": [
    "As listas respondem aos operadores + e *. Muito parecido com strings, eles significam concatenação e repetição aqui também, exceto que o resultado é uma nova lista, não uma string."
   ]
  },
  {
   "attachments": {},
   "cell_type": "markdown",
   "metadata": {},
   "source": [
    "Na verdade, as listas respondem a todas as operações gerais de sequência que usamos em strings no capítulo anterior."
   ]
  },
  {
   "attachments": {},
   "cell_type": "markdown",
   "metadata": {},
   "source": [
    "Expressão Python | Resultados | Descrição \n",
    "---|---|---\n",
    "len([1, 2, 3]) | 3 | Comprimento\n",
    "[1, 2, 3] + [4, 5, 6] | [1, 2, 3, 4, 5, 6] | Concatenação\n",
    "['Hi!'] * 4 | ['Hi!', 'Hi!', 'Hi!', 'Hi!'] | Repetição\n",
    "3 in [1, 2, 3] | True | Filiação\n",
    "for x in [1, 2, 3]: print x, | 1 2 3 | Iteração"
   ]
  },
  {
   "cell_type": "code",
   "execution_count": 5,
   "metadata": {},
   "outputs": [
    {
     "name": "stdout",
     "output_type": "stream",
     "text": [
      "Author: Caique Miranda\n",
      "\n",
      "Github username: caiquemiranda\n",
      "\n"
     ]
    }
   ],
   "source": [
    "%reload_ext watermark\n",
    "%watermark -a \"Caique Miranda\" -gu \"caiquemiranda\" -iv"
   ]
  },
  {
   "cell_type": "markdown",
   "metadata": {},
   "source": [
    "### End."
   ]
  }
 ],
 "metadata": {
  "kernelspec": {
   "display_name": "Python 3.10.5 64-bit",
   "language": "python",
   "name": "python3"
  },
  "language_info": {
   "codemirror_mode": {
    "name": "ipython",
    "version": 3
   },
   "file_extension": ".py",
   "mimetype": "text/x-python",
   "name": "python",
   "nbconvert_exporter": "python",
   "pygments_lexer": "ipython3",
   "version": "3.10.5"
  },
  "orig_nbformat": 4,
  "vscode": {
   "interpreter": {
    "hash": "74af3d2f25f1e46ebd2903d59225d79e4675ec224d56c01fc30cd168c2010d53"
   }
  }
 },
 "nbformat": 4,
 "nbformat_minor": 2
}
