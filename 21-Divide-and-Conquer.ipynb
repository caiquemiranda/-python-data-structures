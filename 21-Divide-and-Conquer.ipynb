{
 "cells": [
  {
   "attachments": {},
   "cell_type": "markdown",
   "metadata": {},
   "source": [
    "### Estruturas de Dados Python – Divida e Conquiste"
   ]
  },
  {
   "attachments": {},
   "cell_type": "markdown",
   "metadata": {},
   "source": [
    "Na abordagem de dividir e conquistar, o problema em questão é dividido em subproblemas menores e, em seguida, cada problema é resolvido de forma independente. Quando continuamos dividindo os subproblemas em subproblemas ainda menores, podemos eventualmente chegar a um estágio em que não é possível mais divisão. Esses subproblemas \"atômicos\" menores possíveis (frações) são resolvidos. A solução de todos os subproblemas é finalmente mesclada para obter a solução de um problema original."
   ]
  },
  {
   "attachments": {},
   "cell_type": "markdown",
   "metadata": {},
   "source": [
    "Em termos gerais, podemos entender a abordagem de dividir e conquistar em um processo de três etapas."
   ]
  },
  {
   "attachments": {},
   "cell_type": "markdown",
   "metadata": {},
   "source": [
    "##### Dividir/Quebrar"
   ]
  },
  {
   "attachments": {},
   "cell_type": "markdown",
   "metadata": {},
   "source": [
    "Esta etapa envolve a quebra do problema em subproblemas menores. Os subproblemas devem representar uma parte do problema original. Esta etapa geralmente adota uma abordagem recursiva para dividir o problema até que nenhum subproblema seja mais divisível. Nesse estágio, os subproblemas tornam-se de natureza atômica, mas ainda representam alguma parte do problema real."
   ]
  },
  {
   "attachments": {},
   "cell_type": "markdown",
   "metadata": {},
   "source": [
    "##### Conquistar/Resolver"
   ]
  },
  {
   "attachments": {},
   "cell_type": "markdown",
   "metadata": {},
   "source": [
    "Esta etapa recebe muitos subproblemas menores a serem resolvidos. Geralmente, neste nível, os problemas são considerados 'resolvidos' por conta própria."
   ]
  },
  {
   "attachments": {},
   "cell_type": "markdown",
   "metadata": {},
   "source": [
    "##### Mesclar/Combinar"
   ]
  },
  {
   "attachments": {},
   "cell_type": "markdown",
   "metadata": {},
   "source": [
    "Quando os subproblemas menores são resolvidos, esta etapa os combina recursivamente até que formulem uma solução do problema original. Essa abordagem algorítmica funciona recursivamente e as etapas de conquista e mesclagem funcionam tão próximas que parecem uma só."
   ]
  },
  {
   "attachments": {},
   "cell_type": "markdown",
   "metadata": {},
   "source": [
    "##### Exemplos"
   ]
  },
  {
   "attachments": {},
   "cell_type": "markdown",
   "metadata": {},
   "source": [
    "O programa a seguir é um exemplo de abordagem de programação de divisão e conquista em que a pesquisa binária é implementada usando python."
   ]
  },
  {
   "attachments": {},
   "cell_type": "markdown",
   "metadata": {},
   "source": [
    "#### Implementação de pesquisa binária\n",
    "---"
   ]
  },
  {
   "attachments": {},
   "cell_type": "markdown",
   "metadata": {},
   "source": [
    "Na busca binária, pegamos uma lista ordenada de elementos e começamos a procurar por um elemento no meio da lista. Se o valor da pesquisa corresponder ao valor do meio da lista, concluímos a pesquisa. Caso contrário, eliminamos metade da lista de elementos, optando por processar com a metade direita ou esquerda da lista dependendo do valor do item pesquisado."
   ]
  },
  {
   "attachments": {},
   "cell_type": "markdown",
   "metadata": {},
   "source": [
    "Isso é possível porque a lista é classificada e é muito mais rápida que a pesquisa linear. Aqui, dividimos a lista fornecida e conquistamos escolhendo a metade adequada da lista. Repetimos esta abordagem até encontrarmos o elemento ou concluirmos sobre sua ausência na lista."
   ]
  },
  {
   "cell_type": "code",
   "execution_count": 1,
   "metadata": {},
   "outputs": [
    {
     "name": "stdout",
     "output_type": "stream",
     "text": [
      "5\n",
      "None\n"
     ]
    }
   ],
   "source": [
    "def bsearch(list, val):\n",
    "    \n",
    "    list_size = len(list) - 1\n",
    "\n",
    "    idx0 = 0\n",
    "    idxn = list_size\n",
    "\n",
    "    # Encontra o valor mais médio\n",
    "    \n",
    "    while idx0 <= idxn:\n",
    "        \n",
    "        midval = (idx0 + idxn)// 2\n",
    "        \n",
    "        if list[midval] == val:\n",
    "            return midval\n",
    "    \n",
    "    # Compare o valor do valor mais médio\n",
    "        if val > list[midval]:\n",
    "            idx0 = midval + 1\n",
    "        \n",
    "        else:\n",
    "            idxn = midval - 1\n",
    "    \n",
    "    if idx0 > idxn:\n",
    "        return None\n",
    "\n",
    "# Inicializa a lista ordenada\n",
    "list = [2,7,19,34,53,72]\n",
    "\n",
    "# Imprimir o resultado da pesquisa\n",
    "print(bsearch(list,72))\n",
    "print(bsearch(list,11))"
   ]
  },
  {
   "cell_type": "code",
   "execution_count": 2,
   "metadata": {},
   "outputs": [
    {
     "name": "stdout",
     "output_type": "stream",
     "text": [
      "Author: Caique Miranda\n",
      "\n",
      "Github username: caiquemiranda\n",
      "\n"
     ]
    }
   ],
   "source": [
    "%reload_ext watermark\n",
    "%watermark -a \"Caique Miranda\" -gu \"caiquemiranda\" -iv"
   ]
  },
  {
   "attachments": {},
   "cell_type": "markdown",
   "metadata": {},
   "source": [
    "### End."
   ]
  }
 ],
 "metadata": {
  "kernelspec": {
   "display_name": "Python 3",
   "language": "python",
   "name": "python3"
  },
  "language_info": {
   "codemirror_mode": {
    "name": "ipython",
    "version": 3
   },
   "file_extension": ".py",
   "mimetype": "text/x-python",
   "name": "python",
   "nbconvert_exporter": "python",
   "pygments_lexer": "ipython3",
   "version": "3.10.5"
  },
  "orig_nbformat": 4,
  "vscode": {
   "interpreter": {
    "hash": "74af3d2f25f1e46ebd2903d59225d79e4675ec224d56c01fc30cd168c2010d53"
   }
  }
 },
 "nbformat": 4,
 "nbformat_minor": 2
}
