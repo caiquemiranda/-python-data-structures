{
 "cells": [
  {
   "cell_type": "markdown",
   "metadata": {},
   "source": [
    "Basic Operations\n",
    "---\n",
    "The basic operations supported by an array are as stated below:\n",
    "- Traverse − Print all the array elements one by one.\n",
    "- Insertion − Adds an element at the given index.\n",
    "- Deletion − Deletes an element at the given index.\n",
    "- Search − Searches an element, using the given index or by the value.\n",
    "- Update − Updates an element at the given index."
   ]
  },
  {
   "cell_type": "markdown",
   "metadata": {},
   "source": [
    "### End."
   ]
  }
 ],
 "metadata": {
  "language_info": {
   "name": "python"
  },
  "orig_nbformat": 4
 },
 "nbformat": 4,
 "nbformat_minor": 2
}
