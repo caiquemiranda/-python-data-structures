{
 "cells": [
  {
   "attachments": {},
   "cell_type": "markdown",
   "metadata": {},
   "source": [
    "### Estruturas de Dados Python - Arrays"
   ]
  },
  {
   "attachments": {},
   "cell_type": "markdown",
   "metadata": {},
   "source": [
    "Array é um contêiner, que pode conter um número fixo de itens e esses itens devem ser do mesmo tipo. A maioria das\n",
    "estruturas de dados faz uso de arrays para implementar seus algoritmos. Os termos importantes para entender o conceito de\n",
    "Array são os seguintes:"
   ]
  },
  {
   "attachments": {},
   "cell_type": "markdown",
   "metadata": {},
   "source": [
    "- Elementoÿ Cada item armazenado em um array é chamado de elemento.\n",
    "- Índice - Cada localização de um elemento em uma matriz tem um índice numérico, que é usado para identificar o elemento."
   ]
  },
  {
   "attachments": {},
   "cell_type": "markdown",
   "metadata": {},
   "source": [
    "#### Representação de Array\n",
    "---"
   ]
  },
  {
   "cell_type": "code",
   "execution_count": 1,
   "metadata": {},
   "outputs": [],
   "source": [
    "array = [23, 12, 45, 65, 76, 87, 12, 34, 1, 91]"
   ]
  },
  {
   "attachments": {},
   "cell_type": "markdown",
   "metadata": {},
   "source": [
    "|Elementos| 23 | 12 | 45 | 65 | 76 | 87 | 12 | 34 | 01 | 91 |\n",
    "|---|---|---|---|---|---|---|---|---|---|---|\n",
    "|Indices| 0 | 1 | 2 | 3 | 4 | 5 | 6 | 7 | 8 | 9 |"
   ]
  },
  {
   "attachments": {},
   "cell_type": "markdown",
   "metadata": {},
   "source": [
    "De acordo com a ilustração acima, a seguir estão os pontos importantes a serem considerados:\n",
    "\n",
    "- O índice começa com 0.\n",
    "- O comprimento do array é 10, o que significa que ele pode armazenar 10 elementos.\n",
    "- Cada elemento pode ser acessado por meio de seu índice. Por exemplo, podemos buscar um elemento no índice 6 como 9."
   ]
  },
  {
   "attachments": {},
   "cell_type": "markdown",
   "metadata": {},
   "source": [
    "#### Operações básicas\n",
    "---"
   ]
  },
  {
   "attachments": {},
   "cell_type": "markdown",
   "metadata": {},
   "source": [
    "As operações básicas suportadas por uma matriz são as indicadas abaixo: \n",
    "\n",
    "- Traverse − Imprima todos os elementos do array um por um..\n",
    "- Insertion − Adiciona um elemento no índice dado..\n",
    "- Deletion − Exclui um elemento no índice fornecido..\n",
    "- Search − Pesquisa um elemento, usando o índice fornecido ou pelo valor.\n",
    "- Update − Atualiza um elemento no índice fornecido."
   ]
  },
  {
   "attachments": {},
   "cell_type": "markdown",
   "metadata": {},
   "source": [
    "Array é criado em Python importando o módulo array para o programa python. Em seguida, o array é declarado como mostrado abaixo:"
   ]
  },
  {
   "cell_type": "code",
   "execution_count": 2,
   "metadata": {},
   "outputs": [],
   "source": [
    "from array import *\n",
    "\n",
    "#NomeArray = array(typecode, [Inicializadores])"
   ]
  },
  {
   "attachments": {},
   "cell_type": "markdown",
   "metadata": {},
   "source": [
    "Typecode são os códigos usados para definir o tipo de valor que o array conterá. Alguns typecodes comuns usados são os seguintes:"
   ]
  },
  {
   "attachments": {},
   "cell_type": "markdown",
   "metadata": {},
   "source": [
    "| Typecode | Value |\n",
    "|---|---|\n",
    "| b | Representa inteiro com sinal de tamanho 1 byte |\n",
    "| B | Representa inteiro sem sinal de tamanho 1 byte |\n",
    "| c | Representa caractere de tamanho 1 byte |\n",
    "| i | Representa inteiro com sinal de tamanho 2 bytes |\n",
    "| I | Representa inteiro sem sinal de tamanho 2 bytes |\n",
    "| f | Representa ponto flutuante de tamanho 4 bytes |\n",
    "| d | Representa ponto flutuante de tamanho 8 bytes |"
   ]
  },
  {
   "attachments": {},
   "cell_type": "markdown",
   "metadata": {},
   "source": [
    "Antes de examinar várias operações de array, vamos criar e imprimir um array usando python."
   ]
  },
  {
   "attachments": {},
   "cell_type": "markdown",
   "metadata": {},
   "source": [
    "O código abaixo cria um array chamado array1."
   ]
  },
  {
   "cell_type": "code",
   "execution_count": 3,
   "metadata": {},
   "outputs": [
    {
     "name": "stdout",
     "output_type": "stream",
     "text": [
      "10\n",
      "20\n",
      "30\n",
      "40\n",
      "50\n"
     ]
    }
   ],
   "source": [
    "from array import *\n",
    "\n",
    "array1 = array('i', [10,20,30,40,50])\n",
    "\n",
    "for x in array1:\n",
    "    print(x)"
   ]
  },
  {
   "attachments": {},
   "cell_type": "markdown",
   "metadata": {},
   "source": [
    "#### Acessando o Elemento do Array\n",
    "---"
   ]
  },
  {
   "attachments": {},
   "cell_type": "markdown",
   "metadata": {},
   "source": [
    "Podemos acessar cada elemento de um array, usando o índice do elemento. O código abaixo mostra como acessar um elemento de array."
   ]
  },
  {
   "cell_type": "code",
   "execution_count": 4,
   "metadata": {},
   "outputs": [
    {
     "name": "stdout",
     "output_type": "stream",
     "text": [
      "10\n",
      "30\n"
     ]
    }
   ],
   "source": [
    "from array import *\n",
    "\n",
    "array1 = array('i', [10,20,30,40,50])\n",
    "\n",
    "print (array1[0])\n",
    "print (array1[2])"
   ]
  },
  {
   "attachments": {},
   "cell_type": "markdown",
   "metadata": {},
   "source": [
    "Quando compilamos e executamos o programa acima, ele produz o seguinte resultado, que mostra que o elemento foi inserido na posição 1 do índice."
   ]
  },
  {
   "attachments": {},
   "cell_type": "markdown",
   "metadata": {},
   "source": [
    "#### Operação de Inserção\n",
    "---"
   ]
  },
  {
   "attachments": {},
   "cell_type": "markdown",
   "metadata": {},
   "source": [
    "A operação de inserção é inserir um ou mais elementos de dados em uma matriz. Com base no requisito, um novo elemento pode ser adicionado no início, no final ou em qualquer índice de variedade."
   ]
  },
  {
   "attachments": {},
   "cell_type": "markdown",
   "metadata": {},
   "source": [
    "Aqui, adicionamos um elemento de dados no meio do array, usando o método insert() integrado do python."
   ]
  },
  {
   "cell_type": "code",
   "execution_count": 5,
   "metadata": {},
   "outputs": [
    {
     "name": "stdout",
     "output_type": "stream",
     "text": [
      "10\n",
      "60\n",
      "20\n",
      "30\n",
      "40\n",
      "50\n"
     ]
    }
   ],
   "source": [
    "from array import *\n",
    "\n",
    "array1 = array('i', [10,20,30,40,50])\n",
    "array1.insert(1,60)\n",
    "\n",
    "for x in array1:\n",
    "    print(x)"
   ]
  },
  {
   "attachments": {},
   "cell_type": "markdown",
   "metadata": {},
   "source": [
    "Quando compilamos e executamos o programa acima, ele produz o seguinte resultado que mostra que o elemento foi inserido na posição 1 do índice."
   ]
  },
  {
   "attachments": {},
   "cell_type": "markdown",
   "metadata": {},
   "source": [
    "#### Operação de exclusão\n",
    "---"
   ]
  },
  {
   "attachments": {},
   "cell_type": "markdown",
   "metadata": {},
   "source": [
    "A exclusão refere-se à remoção de um elemento existente da matriz e à reorganização de todos os elementos de uma matriz."
   ]
  },
  {
   "attachments": {},
   "cell_type": "markdown",
   "metadata": {},
   "source": [
    "Aqui, removemos um elemento de dados no meio do array, usando o método remove() embutido em python."
   ]
  },
  {
   "cell_type": "code",
   "execution_count": 6,
   "metadata": {},
   "outputs": [
    {
     "name": "stdout",
     "output_type": "stream",
     "text": [
      "10\n",
      "20\n",
      "30\n",
      "50\n"
     ]
    }
   ],
   "source": [
    "from array import *\n",
    "\n",
    "array1 = array('i', [10,20,30,40,50])\n",
    "array1.remove(40)\n",
    "\n",
    "for x in array1:\n",
    "    print(x)"
   ]
  },
  {
   "attachments": {},
   "cell_type": "markdown",
   "metadata": {},
   "source": [
    "Quando compilamos e executamos o programa acima, ele produz o seguinte resultado, que mostra que o elemento foi removido do array."
   ]
  },
  {
   "attachments": {},
   "cell_type": "markdown",
   "metadata": {},
   "source": [
    "#### Operação de pesquisa\n",
    "---"
   ]
  },
  {
   "attachments": {},
   "cell_type": "markdown",
   "metadata": {},
   "source": [
    "Você pode realizar uma busca por um elemento de array com base em seu valor ou índice."
   ]
  },
  {
   "attachments": {},
   "cell_type": "markdown",
   "metadata": {},
   "source": [
    "Aqui, pesquisamos um elemento de dados, usando o método index() embutido em python."
   ]
  },
  {
   "cell_type": "code",
   "execution_count": 7,
   "metadata": {},
   "outputs": [
    {
     "name": "stdout",
     "output_type": "stream",
     "text": [
      "3\n"
     ]
    }
   ],
   "source": [
    "from array import *\n",
    "\n",
    "array1 = array('i', [10,20,30,40,50])\n",
    "\n",
    "print (array1.index(40))"
   ]
  },
  {
   "attachments": {},
   "cell_type": "markdown",
   "metadata": {},
   "source": [
    "Quando compilamos e executamos o programa acima, ele produz o seguinte resultado que mostra o índice do elemento. Se o valor não estiver presente na matriz, o programa retornará um erro."
   ]
  },
  {
   "attachments": {},
   "cell_type": "markdown",
   "metadata": {},
   "source": [
    "#### Operação de atualização"
   ]
  },
  {
   "attachments": {},
   "cell_type": "markdown",
   "metadata": {},
   "source": [
    "A operação de atualização refere-se à atualização de um elemento existente da matriz em um determinado índice."
   ]
  },
  {
   "attachments": {},
   "cell_type": "markdown",
   "metadata": {},
   "source": [
    "Aqui, simplesmente reatribuímos um novo valor ao índice desejado que queremos atualizar."
   ]
  },
  {
   "cell_type": "code",
   "execution_count": 8,
   "metadata": {},
   "outputs": [
    {
     "name": "stdout",
     "output_type": "stream",
     "text": [
      "10\n",
      "20\n",
      "80\n",
      "40\n",
      "50\n"
     ]
    }
   ],
   "source": [
    "from array import *\n",
    "\n",
    "array1 = array('i', [10,20,30,40,50])\n",
    "array1[2] = 80\n",
    "\n",
    "for x in array1:\n",
    "    print(x)"
   ]
  },
  {
   "attachments": {},
   "cell_type": "markdown",
   "metadata": {},
   "source": [
    "Quando compilamos e executamos o programa acima, ele produz o seguinte resultado, que mostra o novo valor na posição 2 do índice."
   ]
  },
  {
   "cell_type": "code",
   "execution_count": 9,
   "metadata": {},
   "outputs": [
    {
     "name": "stdout",
     "output_type": "stream",
     "text": [
      "Author: Caique Miranda\n",
      "\n",
      "Github username: caiquemiranda\n",
      "\n"
     ]
    }
   ],
   "source": [
    "%reload_ext watermark\n",
    "%watermark -a \"Caique Miranda\" -gu \"caiquemiranda\" -iv"
   ]
  },
  {
   "cell_type": "markdown",
   "metadata": {},
   "source": [
    "### End."
   ]
  }
 ],
 "metadata": {
  "kernelspec": {
   "display_name": "Python 3.10.5 64-bit",
   "language": "python",
   "name": "python3"
  },
  "language_info": {
   "codemirror_mode": {
    "name": "ipython",
    "version": 3
   },
   "file_extension": ".py",
   "mimetype": "text/x-python",
   "name": "python",
   "nbconvert_exporter": "python",
   "pygments_lexer": "ipython3",
   "version": "3.10.5"
  },
  "orig_nbformat": 4,
  "vscode": {
   "interpreter": {
    "hash": "74af3d2f25f1e46ebd2903d59225d79e4675ec224d56c01fc30cd168c2010d53"
   }
  }
 },
 "nbformat": 4,
 "nbformat_minor": 2
}
