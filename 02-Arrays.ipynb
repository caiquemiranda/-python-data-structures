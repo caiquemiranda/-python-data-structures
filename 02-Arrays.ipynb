{
 "cells": [
  {
   "cell_type": "markdown",
   "metadata": {},
   "source": [
    "Basic Operations\n",
    "---\n",
    "The basic operations supported by an array are as stated below:\n",
    "- Traverse − Print all the array elements one by one.\n",
    "- Insertion − Adds an element at the given index.\n",
    "- Deletion − Deletes an element at the given index.\n",
    "- Search − Searches an element, using the given index or by the value.\n",
    "- Update − Updates an element at the given index."
   ]
  },
  {
   "cell_type": "code",
   "execution_count": null,
   "metadata": {},
   "outputs": [],
   "source": [
    "from array import *\n",
    "\n",
    "#arrayName = array(typecode, [Initializers])"
   ]
  },
  {
   "cell_type": "code",
   "execution_count": 1,
   "metadata": {},
   "outputs": [
    {
     "name": "stdout",
     "output_type": "stream",
     "text": [
      "10\n",
      "20\n",
      "30\n",
      "40\n",
      "50\n"
     ]
    }
   ],
   "source": [
    "from array import *\n",
    "\n",
    "array1 = array('i', [10,20,30,40,50])\n",
    "\n",
    "for x in array1:\n",
    "    print(x)"
   ]
  },
  {
   "cell_type": "code",
   "execution_count": 2,
   "metadata": {},
   "outputs": [
    {
     "name": "stdout",
     "output_type": "stream",
     "text": [
      "10\n",
      "30\n"
     ]
    }
   ],
   "source": [
    "from array import *\n",
    "\n",
    "array1 = array('i', [10,20,30,40,50])\n",
    "\n",
    "print (array1[0])\n",
    "print (array1[2])"
   ]
  },
  {
   "cell_type": "code",
   "execution_count": 3,
   "metadata": {},
   "outputs": [
    {
     "name": "stdout",
     "output_type": "stream",
     "text": [
      "10\n",
      "60\n",
      "20\n",
      "30\n",
      "40\n",
      "50\n"
     ]
    }
   ],
   "source": [
    "from array import *\n",
    "\n",
    "array1 = array('i', [10,20,30,40,50])\n",
    "array1.insert(1,60)\n",
    "\n",
    "for x in array1:\n",
    "    print(x)"
   ]
  },
  {
   "cell_type": "code",
   "execution_count": 4,
   "metadata": {},
   "outputs": [
    {
     "name": "stdout",
     "output_type": "stream",
     "text": [
      "10\n",
      "20\n",
      "30\n",
      "50\n"
     ]
    }
   ],
   "source": [
    "from array import *\n",
    "\n",
    "array1 = array('i', [10,20,30,40,50])\n",
    "array1.remove(40)\n",
    "\n",
    "for x in array1:\n",
    "    print(x)"
   ]
  },
  {
   "cell_type": "code",
   "execution_count": 5,
   "metadata": {},
   "outputs": [
    {
     "name": "stdout",
     "output_type": "stream",
     "text": [
      "3\n"
     ]
    }
   ],
   "source": [
    "from array import *\n",
    "\n",
    "array1 = array('i', [10,20,30,40,50])\n",
    "\n",
    "print (array1.index(40))"
   ]
  },
  {
   "cell_type": "code",
   "execution_count": 6,
   "metadata": {},
   "outputs": [
    {
     "name": "stdout",
     "output_type": "stream",
     "text": [
      "10\n",
      "20\n",
      "80\n",
      "40\n",
      "50\n"
     ]
    }
   ],
   "source": [
    "from array import *\n",
    "\n",
    "array1 = array('i', [10,20,30,40,50])\n",
    "array1[2] = 80\n",
    "\n",
    "for x in array1:\n",
    "    print(x)"
   ]
  },
  {
   "cell_type": "markdown",
   "metadata": {},
   "source": [
    "### End."
   ]
  }
 ],
 "metadata": {
  "kernelspec": {
   "display_name": "Python 3.10.5 64-bit",
   "language": "python",
   "name": "python3"
  },
  "language_info": {
   "codemirror_mode": {
    "name": "ipython",
    "version": 3
   },
   "file_extension": ".py",
   "mimetype": "text/x-python",
   "name": "python",
   "nbconvert_exporter": "python",
   "pygments_lexer": "ipython3",
   "version": "3.10.5"
  },
  "orig_nbformat": 4,
  "vscode": {
   "interpreter": {
    "hash": "74af3d2f25f1e46ebd2903d59225d79e4675ec224d56c01fc30cd168c2010d53"
   }
  }
 },
 "nbformat": 4,
 "nbformat_minor": 2
}
