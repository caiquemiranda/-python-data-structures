{
 "cells": [
  {
   "attachments": {},
   "cell_type": "markdown",
   "metadata": {},
   "source": [
    "### Estruturas de Dados Python – Tipos de Algoritmos"
   ]
  },
  {
   "attachments": {},
   "cell_type": "markdown",
   "metadata": {},
   "source": [
    "A eficiência e a precisão dos algoritmos devem ser analisadas para compará-los e escolher um algoritmo específico para\n",
    "determinados cenários. O processo de fazer essa análise é chamado de análise assintótica. Refere-se ao cálculo do tempo\n",
    "de execução de qualquer operação em unidades matemáticas de computação."
   ]
  },
  {
   "attachments": {},
   "cell_type": "markdown",
   "metadata": {},
   "source": [
    "Por exemplo, o tempo de execução de uma operação é calculado como f(n) e pode ser que para outra operação seja\n",
    "calculado como g(n2). Isso significa que o tempo de execução da primeira operação aumentará linearmente com o aumento\n",
    "de n e o tempo de execução da segunda operação aumentará exponencialmente quando n aumentar. Da mesma forma, o\n",
    "tempo de execução de ambas as operações será quase o mesmo se n for significativamente pequeno."
   ]
  },
  {
   "attachments": {},
   "cell_type": "markdown",
   "metadata": {},
   "source": [
    "Normalmente, o tempo requerido por um algoritmo se enquadra em três tipos:\n",
    "\n",
    "- Best Case - Tempo mínimo necessário para a execução do programa.\n",
    "- Average Case - Tempo médio necessário para execução do programa.\n",
    "- Worst Case - Tempo máximo necessário para execução do programa."
   ]
  },
  {
   "attachments": {},
   "cell_type": "markdown",
   "metadata": {},
   "source": [
    "#### Notações Assintóticas\n",
    "---"
   ]
  },
  {
   "attachments": {},
   "cell_type": "markdown",
   "metadata": {},
   "source": [
    "As notações assintóticas comumente usadas para calcular a complexidade do tempo de execução de um algoritmo são as\n",
    "seguintes:\n",
    "\n",
    "- Notação Ο \n",
    "- Notação Ω \n",
    "- Notação θ "
   ]
  },
  {
   "attachments": {},
   "cell_type": "markdown",
   "metadata": {},
   "source": [
    "##### Notação Big O"
   ]
  },
  {
   "attachments": {},
   "cell_type": "markdown",
   "metadata": {},
   "source": [
    "A notação ÿ(n) é a forma formal de expressar o limite superior do tempo de execução de um algoritmo. Ele mede a complexidade de tempo do pior caso ou a maior quantidade de tempo que um algoritmo pode levar para ser concluído"
   ]
  },
  {
   "attachments": {},
   "cell_type": "markdown",
   "metadata": {},
   "source": [
    "##### Notação Omega,"
   ]
  },
  {
   "attachments": {},
   "cell_type": "markdown",
   "metadata": {},
   "source": [
    "A notação ÿ(n) é a forma formal de expressar o limite inferior do tempo de execução de um algoritmo. Ele mede a complexidade de tempo do melhor caso ou a melhor quantidade de tempo que um algoritmo pode levar para ser concluído."
   ]
  },
  {
   "attachments": {},
   "cell_type": "markdown",
   "metadata": {},
   "source": [
    "##### Notação Theta"
   ]
  },
  {
   "attachments": {},
   "cell_type": "markdown",
   "metadata": {},
   "source": [
    "A notação ÿ(n) é a maneira formal de expressar tanto o limite inferior quanto o limite superior do tempo de execução de um algoritmo. É representado da seguinte forma:"
   ]
  },
  {
   "attachments": {},
   "cell_type": "markdown",
   "metadata": {},
   "source": [
    "#### Notações Assintóticas Comuns\n",
    "---"
   ]
  },
  {
   "attachments": {},
   "cell_type": "markdown",
   "metadata": {},
   "source": [
    "Uma lista de algumas notações assintóticas comuns é mencionada abaixo:"
   ]
  },
  {
   "attachments": {},
   "cell_type": "markdown",
   "metadata": {},
   "source": [
    "|- | - |\n",
    "|---|---|\n",
    "| constante | Ο(1) |\n",
    "| logarítmico | Ο(log n) |\n",
    "| linear | Ο(n) |\n",
    "| n log n | Ο(n log n) |\n",
    "| quadrático | Ο(n2) |\n",
    "| cúbico | Ο(n3) |\n",
    "| polinomial | nΟ(1) |\n",
    "| exponencial | 2Ο(n) |"
   ]
  },
  {
   "cell_type": "code",
   "execution_count": 1,
   "metadata": {},
   "outputs": [
    {
     "name": "stdout",
     "output_type": "stream",
     "text": [
      "Author: Caique Miranda\n",
      "\n",
      "Github username: caiquemiranda\n",
      "\n"
     ]
    }
   ],
   "source": [
    "%reload_ext watermark\n",
    "%watermark -a \"Caique Miranda\" -gu \"caiquemiranda\" -iv"
   ]
  },
  {
   "attachments": {},
   "cell_type": "markdown",
   "metadata": {},
   "source": [
    "### End."
   ]
  }
 ],
 "metadata": {
  "kernelspec": {
   "display_name": "Python 3",
   "language": "python",
   "name": "python3"
  },
  "language_info": {
   "codemirror_mode": {
    "name": "ipython",
    "version": 3
   },
   "file_extension": ".py",
   "mimetype": "text/x-python",
   "name": "python",
   "nbconvert_exporter": "python",
   "pygments_lexer": "ipython3",
   "version": "3.10.5"
  },
  "orig_nbformat": 4,
  "vscode": {
   "interpreter": {
    "hash": "74af3d2f25f1e46ebd2903d59225d79e4675ec224d56c01fc30cd168c2010d53"
   }
  }
 },
 "nbformat": 4,
 "nbformat_minor": 2
}
