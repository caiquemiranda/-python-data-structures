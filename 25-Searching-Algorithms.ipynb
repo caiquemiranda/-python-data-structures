{
 "cells": [
  {
   "attachments": {},
   "cell_type": "markdown",
   "metadata": {},
   "source": [
    "### Estruturas de Dados Python – Algoritmos de Pesquisa"
   ]
  },
  {
   "attachments": {},
   "cell_type": "markdown",
   "metadata": {},
   "source": [
    "A pesquisa é uma necessidade muito básica quando você armazena dados em diferentes estruturas de dados. A abordagem mais simples é percorrer todos os elementos da estrutura de dados e combiná-los com o valor que você está procurando. Isso é conhecido como pesquisa linear. É ineficiente e raramente usado, mas criar um programa para ele dá uma ideia de como podemos implementar alguns algoritmos de busca avançada."
   ]
  },
  {
   "attachments": {},
   "cell_type": "markdown",
   "metadata": {},
   "source": [
    "#### Linear Search\n",
    "---"
   ]
  },
  {
   "attachments": {},
   "cell_type": "markdown",
   "metadata": {},
   "source": [
    "Neste tipo de busca, é feita uma busca sequencial sobre todos os itens um a um. Cada item é verificado e, se for encontrada uma correspondência, esse item específico é retornado, caso contrário, a pesquisa continua até o final da estrutura de dados."
   ]
  },
  {
   "cell_type": "code",
   "execution_count": null,
   "metadata": {},
   "outputs": [],
   "source": [
    "def linear_search(values, search_for):\n",
    "    \n",
    "    search_at = 0\n",
    "    search_res = False\n",
    "    \n",
    "    # Combine o valor com cada elemento de dados\n",
    "    while search_at < len(values) and search_res is False:\n",
    "        \n",
    "        if values[search_at] == search_for:\n",
    "            search_res = True\n",
    "            \n",
    "        else:\n",
    "            search_at = search_at + 1\n",
    "    \n",
    "    return search_res\n",
    "\n",
    "l = [64, 34, 25, 12, 22, 11, 90]\n",
    "\n",
    "print(linear_search(1, 12))\n",
    "print(linear_search(1, 91))"
   ]
  },
  {
   "attachments": {},
   "cell_type": "markdown",
   "metadata": {},
   "source": [
    "#### Interpolation Search\n",
    "---"
   ]
  },
  {
   "attachments": {},
   "cell_type": "markdown",
   "metadata": {},
   "source": [
    "Este algoritmo de busca funciona na posição de sondagem do valor requerido. Para que esse algoritmo funcione corretamente, a coleta de dados deve estar de forma ordenada e igualmente distribuída. Inicialmente, a posição da sonda é a posição do item mais central dos 93 coleção. Se ocorrer uma correspondência, o índice do item será retornado. Se o item do meio for maior que o item, então a posição da sonda é novamente calculada na submatriz à direita do item do meio. Caso contrário, o item é pesquisado no subarray à esquerda do item do meio. Esse processo continua no subarray também até que o tamanho do subarray seja reduzido a zero."
   ]
  },
  {
   "attachments": {},
   "cell_type": "markdown",
   "metadata": {},
   "source": [
    "Existe uma fórmula específica para calcular a posição intermediária, indicada no programa abaixo:"
   ]
  },
  {
   "cell_type": "code",
   "execution_count": 4,
   "metadata": {},
   "outputs": [
    {
     "name": "stdout",
     "output_type": "stream",
     "text": [
      " Encontrado 2 no índice 0\n"
     ]
    }
   ],
   "source": [
    "def intpolsearch(values,x ):\n",
    "    idx0 = 0\n",
    "    idxn = (len(values) - 1)\n",
    "    \n",
    "    while idx0 <= idxn and x >= values[idx0] and x <= values[idxn]:\n",
    "            \n",
    "        # Encontra o ponto médio\n",
    "        mid = idx0 +\\\n",
    "            int(((float(idxn - idx0)/( values[idxn] - values[idx0]))\n",
    "                * ( x - values[idx0])))\n",
    "\n",
    "        # Compare o valor no ponto médio com o valor de pesquisa\n",
    "        if values[mid] == x:\n",
    "            return \" Encontrado \"+str(x)+\" no índice \"+str(mid)\n",
    "        \n",
    "        if values[mid] < x:\n",
    "            idx0 = mid + 1\n",
    "        \n",
    "    return \"O elemento pesquisado não está na lista\"\n",
    "\n",
    "l = [2, 6, 11, 19, 27, 31, 45, 121]\n",
    "print(intpolsearch(l, 2))"
   ]
  },
  {
   "cell_type": "code",
   "execution_count": 5,
   "metadata": {},
   "outputs": [
    {
     "name": "stdout",
     "output_type": "stream",
     "text": [
      "Author: Caique Miranda\n",
      "\n",
      "Github username: caiquemiranda\n",
      "\n"
     ]
    }
   ],
   "source": [
    "%reload_ext watermark\n",
    "%watermark -a \"Caique Miranda\" -gu \"caiquemiranda\" -iv"
   ]
  },
  {
   "attachments": {},
   "cell_type": "markdown",
   "metadata": {},
   "source": [
    "### End."
   ]
  }
 ],
 "metadata": {
  "kernelspec": {
   "display_name": "Python 3",
   "language": "python",
   "name": "python3"
  },
  "language_info": {
   "codemirror_mode": {
    "name": "ipython",
    "version": 3
   },
   "file_extension": ".py",
   "mimetype": "text/x-python",
   "name": "python",
   "nbconvert_exporter": "python",
   "pygments_lexer": "ipython3",
   "version": "3.10.5"
  },
  "orig_nbformat": 4,
  "vscode": {
   "interpreter": {
    "hash": "74af3d2f25f1e46ebd2903d59225d79e4675ec224d56c01fc30cd168c2010d53"
   }
  }
 },
 "nbformat": 4,
 "nbformat_minor": 2
}
