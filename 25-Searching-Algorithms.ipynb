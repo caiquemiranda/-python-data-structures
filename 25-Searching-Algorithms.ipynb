{
 "cells": [
  {
   "attachments": {},
   "cell_type": "markdown",
   "metadata": {},
   "source": [
    "### Linear Search"
   ]
  },
  {
   "cell_type": "code",
   "execution_count": 4,
   "metadata": {},
   "outputs": [
    {
     "ename": "TypeError",
     "evalue": "object of type 'int' has no len()",
     "output_type": "error",
     "traceback": [
      "\u001b[1;31m---------------------------------------------------------------------------\u001b[0m",
      "\u001b[1;31mTypeError\u001b[0m                                 Traceback (most recent call last)",
      "\u001b[1;32md:\\GIT-repository\\github-python-data-structures\\python-data-structures\\25-Searching-Algorithms.ipynb Cell 2\u001b[0m in \u001b[0;36m<cell line: 19>\u001b[1;34m()\u001b[0m\n\u001b[0;32m     <a href='vscode-notebook-cell:/d%3A/GIT-repository/github-python-data-structures/python-data-structures/25-Searching-Algorithms.ipynb#W0sZmlsZQ%3D%3D?line=14'>15</a>\u001b[0m     \u001b[39mreturn\u001b[39;00m search_res\n\u001b[0;32m     <a href='vscode-notebook-cell:/d%3A/GIT-repository/github-python-data-structures/python-data-structures/25-Searching-Algorithms.ipynb#W0sZmlsZQ%3D%3D?line=16'>17</a>\u001b[0m l \u001b[39m=\u001b[39m [\u001b[39m64\u001b[39m, \u001b[39m34\u001b[39m, \u001b[39m25\u001b[39m, \u001b[39m12\u001b[39m, \u001b[39m22\u001b[39m, \u001b[39m11\u001b[39m, \u001b[39m90\u001b[39m]\n\u001b[1;32m---> <a href='vscode-notebook-cell:/d%3A/GIT-repository/github-python-data-structures/python-data-structures/25-Searching-Algorithms.ipynb#W0sZmlsZQ%3D%3D?line=18'>19</a>\u001b[0m \u001b[39mprint\u001b[39m(linear_search(\u001b[39m1\u001b[39;49m, \u001b[39m12\u001b[39;49m))\n\u001b[0;32m     <a href='vscode-notebook-cell:/d%3A/GIT-repository/github-python-data-structures/python-data-structures/25-Searching-Algorithms.ipynb#W0sZmlsZQ%3D%3D?line=19'>20</a>\u001b[0m \u001b[39mprint\u001b[39m(linear_search(\u001b[39m1\u001b[39m, \u001b[39m91\u001b[39m))\n",
      "\u001b[1;32md:\\GIT-repository\\github-python-data-structures\\python-data-structures\\25-Searching-Algorithms.ipynb Cell 2\u001b[0m in \u001b[0;36mlinear_search\u001b[1;34m(values, search_for)\u001b[0m\n\u001b[0;32m      <a href='vscode-notebook-cell:/d%3A/GIT-repository/github-python-data-structures/python-data-structures/25-Searching-Algorithms.ipynb#W0sZmlsZQ%3D%3D?line=3'>4</a>\u001b[0m search_res \u001b[39m=\u001b[39m \u001b[39mFalse\u001b[39;00m\n\u001b[0;32m      <a href='vscode-notebook-cell:/d%3A/GIT-repository/github-python-data-structures/python-data-structures/25-Searching-Algorithms.ipynb#W0sZmlsZQ%3D%3D?line=5'>6</a>\u001b[0m \u001b[39m# match the value with each data element\u001b[39;00m\n\u001b[1;32m----> <a href='vscode-notebook-cell:/d%3A/GIT-repository/github-python-data-structures/python-data-structures/25-Searching-Algorithms.ipynb#W0sZmlsZQ%3D%3D?line=6'>7</a>\u001b[0m \u001b[39mwhile\u001b[39;00m search_at \u001b[39m<\u001b[39m \u001b[39mlen\u001b[39;49m(values) \u001b[39mand\u001b[39;00m search_res \u001b[39mis\u001b[39;00m \u001b[39mFalse\u001b[39;00m:\n\u001b[0;32m      <a href='vscode-notebook-cell:/d%3A/GIT-repository/github-python-data-structures/python-data-structures/25-Searching-Algorithms.ipynb#W0sZmlsZQ%3D%3D?line=8'>9</a>\u001b[0m     \u001b[39mif\u001b[39;00m values[search_at] \u001b[39m==\u001b[39m search_for:\n\u001b[0;32m     <a href='vscode-notebook-cell:/d%3A/GIT-repository/github-python-data-structures/python-data-structures/25-Searching-Algorithms.ipynb#W0sZmlsZQ%3D%3D?line=9'>10</a>\u001b[0m         search_res \u001b[39m=\u001b[39m \u001b[39mTrue\u001b[39;00m\n",
      "\u001b[1;31mTypeError\u001b[0m: object of type 'int' has no len()"
     ]
    }
   ],
   "source": [
    "def linear_search(values, search_for):\n",
    "    \n",
    "    search_at = 0\n",
    "    search_res = False\n",
    "    \n",
    "    # match the value with each data element\n",
    "    while search_at < len(values) and search_res is False:\n",
    "        \n",
    "        if values[search_at] == search_for:\n",
    "            search_res = True\n",
    "            \n",
    "        else:\n",
    "            search_at = search_at + 1\n",
    "    \n",
    "    return search_res\n",
    "\n",
    "l = [64, 34, 25, 12, 22, 11, 90]\n",
    "\n",
    "print(linear_search(1, 12))\n",
    "print(linear_search(1, 91))"
   ]
  },
  {
   "attachments": {},
   "cell_type": "markdown",
   "metadata": {},
   "source": [
    "### Interpolation Search"
   ]
  },
  {
   "cell_type": "code",
   "execution_count": null,
   "metadata": {},
   "outputs": [],
   "source": [
    "def intpolsearch(values,x ):\n",
    "    idx0 = 0\n",
    "    idxn = (len(values) - 1)\n",
    "    \n",
    "    while idx0 <= idxn and x >= values[idx0] and x <= values[idxn]:\n",
    "            \n",
    "        # Find the mid point\n",
    "        mid = idx0 +\\\n",
    "            int(((float(idxn - idx0)/( values[idxn] - values[idx0]))\n",
    "                * ( x - values[idx0])))\n",
    "\n",
    "        # Compare the value at mid point with search value\n",
    "        if values[mid] == x:\n",
    "            return \"Found \"+str(x)+\" at index \"+str(mid)\n",
    "        \n",
    "        if values[mid] < x:\n",
    "            idx0 = mid + 1\n",
    "        \n",
    "    return \"Searched element not in the list\"\n",
    "\n",
    "l = [2, 6, 11, 19, 27, 31, 45, 121]\n",
    "print(intpolsearch(l, 2))"
   ]
  },
  {
   "cell_type": "code",
   "execution_count": null,
   "metadata": {},
   "outputs": [],
   "source": [
    "%reload_ext watermark\n",
    "%watermark -a \"Caique Miranda\" -gu \"caiquemiranda\" -iv"
   ]
  },
  {
   "attachments": {},
   "cell_type": "markdown",
   "metadata": {},
   "source": [
    "### END."
   ]
  }
 ],
 "metadata": {
  "kernelspec": {
   "display_name": "Python 3",
   "language": "python",
   "name": "python3"
  },
  "language_info": {
   "codemirror_mode": {
    "name": "ipython",
    "version": 3
   },
   "file_extension": ".py",
   "mimetype": "text/x-python",
   "name": "python",
   "nbconvert_exporter": "python",
   "pygments_lexer": "ipython3",
   "version": "3.10.5"
  },
  "orig_nbformat": 4,
  "vscode": {
   "interpreter": {
    "hash": "74af3d2f25f1e46ebd2903d59225d79e4675ec224d56c01fc30cd168c2010d53"
   }
  }
 },
 "nbformat": 4,
 "nbformat_minor": 2
}
