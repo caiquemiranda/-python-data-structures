{
 "cells": [
  {
   "attachments": {},
   "cell_type": "markdown",
   "metadata": {},
   "source": [
    "### Estruturas de Dados Python – Recursão"
   ]
  },
  {
   "attachments": {},
   "cell_type": "markdown",
   "metadata": {},
   "source": [
    "A recursão permite que uma função chame a si mesma. Etapas fixas de código são executadas repetidas vezes para novos valores. Também temos que definir critérios para decidir quando a chamada recursiva termina. No exemplo abaixo, vemos uma abordagem recursiva para a pesquisa binária. Pegamos uma lista ordenada e damos seu intervalo de índice como entrada para a função recursiva."
   ]
  },
  {
   "attachments": {},
   "cell_type": "markdown",
   "metadata": {},
   "source": [
    "#### Pesquisa binária usando recursão\n",
    "---"
   ]
  },
  {
   "attachments": {},
   "cell_type": "markdown",
   "metadata": {},
   "source": [
    "Implementamos o algoritmo de busca binária usando python conforme mostrado abaixo. Usamos uma lista ordenada de itens e projetamos uma função recursiva para receber a lista junto com o índice inicial e final como entrada. Em seguida, a função de busca binária chama a si mesma até encontrar o item procurado ou conclui sobre sua ausência na lista."
   ]
  },
  {
   "cell_type": "code",
   "execution_count": 1,
   "metadata": {},
   "outputs": [
    {
     "name": "stdout",
     "output_type": "stream",
     "text": [
      "2\n",
      "None\n"
     ]
    }
   ],
   "source": [
    "def bsearch(list, idx0, idxn, val):\n",
    "    \n",
    "    if (idxn < idx0):\n",
    "        return None\n",
    "    \n",
    "    else:\n",
    "        midval = idx0 + ((idxn - idx0) // 2)\n",
    "\n",
    "# Compare o item de pesquisa com o valor mais central\n",
    "        if list[midval] > val:\n",
    "            return bsearch(list, idx0, midval-1,val)\n",
    "\n",
    "        elif list[midval] < val:\n",
    "            return bsearch(list, midval+1, idxn, val)\n",
    "        \n",
    "        else:\n",
    "            return midval\n",
    "\n",
    "list = [8,11,24,56,88,131]\n",
    "\n",
    "print(bsearch(list, 0, 5, 24))\n",
    "print(bsearch(list, 0, 5, 51))"
   ]
  },
  {
   "cell_type": "code",
   "execution_count": 2,
   "metadata": {},
   "outputs": [
    {
     "name": "stdout",
     "output_type": "stream",
     "text": [
      "Author: Caique Miranda\n",
      "\n",
      "Github username: caiquemiranda\n",
      "\n"
     ]
    }
   ],
   "source": [
    "%reload_ext watermark\n",
    "%watermark -a \"Caique Miranda\" -gu \"caiquemiranda\" -iv"
   ]
  },
  {
   "attachments": {},
   "cell_type": "markdown",
   "metadata": {},
   "source": [
    "### End."
   ]
  }
 ],
 "metadata": {
  "kernelspec": {
   "display_name": "Python 3",
   "language": "python",
   "name": "python3"
  },
  "language_info": {
   "codemirror_mode": {
    "name": "ipython",
    "version": 3
   },
   "file_extension": ".py",
   "mimetype": "text/x-python",
   "name": "python",
   "nbconvert_exporter": "python",
   "pygments_lexer": "ipython3",
   "version": "3.10.5"
  },
  "orig_nbformat": 4,
  "vscode": {
   "interpreter": {
    "hash": "74af3d2f25f1e46ebd2903d59225d79e4675ec224d56c01fc30cd168c2010d53"
   }
  }
 },
 "nbformat": 4,
 "nbformat_minor": 2
}
