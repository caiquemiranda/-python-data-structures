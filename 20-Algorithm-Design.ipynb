{
 "cells": [
  {
   "attachments": {},
   "cell_type": "markdown",
   "metadata": {},
   "source": [
    "### Estruturas de Dados Python – Projeto de Algoritmo"
   ]
  },
  {
   "attachments": {},
   "cell_type": "markdown",
   "metadata": {},
   "source": [
    "Algoritmo é um procedimento passo a passo, que define um conjunto de instruções a serem executadas em uma\n",
    "determinada ordem para obter a saída desejada. Os algoritmos são geralmente criados independentemente das\n",
    "linguagens subjacentes, ou seja, um algoritmo pode ser implementado em mais de uma linguagem de programação."
   ]
  },
  {
   "attachments": {},
   "cell_type": "markdown",
   "metadata": {},
   "source": [
    "Do ponto de vista da estrutura de dados, seguem algumas categorias importantes de algoritmos:\n",
    "\n",
    "- Search − Algoritmo para pesquisar um item em uma estrutura de dados.\n",
    "- Sort − Algoritmo para classificar itens em uma determinada ordem.\n",
    "- Insert − Algoritmo para inserir itens em uma estrutura de dados.\n",
    "- Update − Algoritmo para atualizar um item existente em uma estrutura de dados.\n",
    "- Delete − Algoritmo para excluir um item existente de uma estrutura de dados."
   ]
  },
  {
   "attachments": {},
   "cell_type": "markdown",
   "metadata": {},
   "source": [
    "#### Características de um Algoritmo\n",
    "---"
   ]
  },
  {
   "attachments": {},
   "cell_type": "markdown",
   "metadata": {},
   "source": [
    "Nem todos os procedimentos podem ser chamados de algoritmo. Um algoritmo deve ter as seguintes características:\n",
    "\n",
    "- Inequívoco - O algoritmo deve ser claro e inequívoco. Cada uma de suas etapas (ou fases) e suas entradas saídas devem ser claras e devem levar a apenas uma significado.\n",
    "- Entrada - Um algoritmo deve ter 0 ou mais entradas bem definidas.\n",
    "- Saida - Um algoritmo deve ter 1 ou mais outputs bem definidos, e deve corresponder à saída desejada.\n",
    "- Finitude - Algoritmos devem terminar após um número finito de passos\n",
    "- Viabilidade - Deve ser viável com os recursos disponíveis.\n",
    "- Independente - Um algoritmo deve ter instruções passo a passo, que devem independente de qualquer código de programação."
   ]
  },
  {
   "attachments": {},
   "cell_type": "markdown",
   "metadata": {},
   "source": [
    "#### Como Escrever um Algoritmo?\n",
    "---"
   ]
  },
  {
   "attachments": {},
   "cell_type": "markdown",
   "metadata": {},
   "source": [
    "Não há padrões bem definidos para escrever algoritmos. Em vez disso, é problema e dependente de recursos. Os\n",
    "algoritmos nunca são escritos para suportar um código de programação específico."
   ]
  },
  {
   "attachments": {},
   "cell_type": "markdown",
   "metadata": {},
   "source": [
    "Como sabemos, todas as linguagens de programação compartilham construções básicas de código como loops (do,\n",
    "for, while), controle de fluxo (if-else), etc. Essas construções comuns podem ser usadas para escrever um algoritmo."
   ]
  },
  {
   "attachments": {},
   "cell_type": "markdown",
   "metadata": {},
   "source": [
    "Escrevemos algoritmos passo a passo, mas nem sempre é o caso. A escrita do algoritmo é um processo e é executado\n",
    "após o domínio do problema estar bem definido. Ou seja, devemos conhecer o domínio do problema, para o qual\n",
    "estamos projetando uma solução."
   ]
  },
  {
   "attachments": {},
   "cell_type": "markdown",
   "metadata": {},
   "source": [
    "##### Exemplo\n",
    "\n",
    "Vamos tentar aprender a escrever algoritmos usando um exemplo.\n",
    "\n",
    "- Problema: Projete um algoritmo para somar dois números e exibir o resultado.\n",
    "\n",
    "passo 1 - INICIAR\n",
    "passo 2 - declarar três inteiros a, b e c\n",
    "passo 3 - definir valores de a & b\n",
    "passo 4 - adicione valores de a & b\n",
    "passo 5 - armazenar a saída do passo 4 para c"
   ]
  },
  {
   "attachments": {},
   "cell_type": "markdown",
   "metadata": {},
   "source": [
    "### End."
   ]
  }
 ],
 "metadata": {
  "kernelspec": {
   "display_name": "Python 3",
   "language": "python",
   "name": "python3"
  },
  "language_info": {
   "codemirror_mode": {
    "name": "ipython",
    "version": 3
   },
   "file_extension": ".py",
   "mimetype": "text/x-python",
   "name": "python",
   "nbconvert_exporter": "python",
   "pygments_lexer": "ipython3",
   "version": "3.10.5"
  },
  "orig_nbformat": 4,
  "vscode": {
   "interpreter": {
    "hash": "74af3d2f25f1e46ebd2903d59225d79e4675ec224d56c01fc30cd168c2010d53"
   }
  }
 },
 "nbformat": 4,
 "nbformat_minor": 2
}
