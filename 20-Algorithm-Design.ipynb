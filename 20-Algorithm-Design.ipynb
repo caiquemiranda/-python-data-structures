{
 "cells": [
  {
   "attachments": {},
   "cell_type": "markdown",
   "metadata": {},
   "source": [
    "### Estruturas de Dados Python – Projeto de Algoritmo"
   ]
  },
  {
   "attachments": {},
   "cell_type": "markdown",
   "metadata": {},
   "source": [
    "Algoritmo é um procedimento passo a passo, que define um conjunto de instruções a serem executadas em uma determinada ordem para obter a saída desejada. Os algoritmos são geralmente criados independentemente das linguagens subjacentes, ou seja, um algoritmo pode ser implementado em mais de uma linguagem de programação."
   ]
  },
  {
   "attachments": {},
   "cell_type": "markdown",
   "metadata": {},
   "source": [
    "Do ponto de vista da estrutura de dados, seguem algumas categorias importantes de algoritmos:\n",
    "\n",
    "- Search − Algoritmo para pesquisar um item em uma estrutura de dados.\n",
    "- Sort − Algoritmo para classificar itens em uma determinada ordem.\n",
    "- Insert − Algoritmo para inserir itens em uma estrutura de dados.\n",
    "- Update − Algoritmo para atualizar um item existente em uma estrutura de dados.\n",
    "- Delete − Algoritmo para excluir um item existente de uma estrutura de dados."
   ]
  },
  {
   "attachments": {},
   "cell_type": "markdown",
   "metadata": {},
   "source": [
    "#### Características de um Algoritmo\n",
    "---"
   ]
  },
  {
   "attachments": {},
   "cell_type": "markdown",
   "metadata": {},
   "source": [
    "Nem todos os procedimentos podem ser chamados de algoritmo. Um algoritmo deve ter as seguintes características:\n",
    "\n",
    "- Inequívoco - O algoritmo deve ser claro e inequívoco. Cada uma de suas etapas (ou fases) e suas entradas saídas devem ser claras e devem levar a apenas uma significado.\n",
    "- Entrada - Um algoritmo deve ter 0 ou mais entradas bem definidas.\n",
    "- Saida - Um algoritmo deve ter 1 ou mais outputs bem definidos, e deve corresponder à saída desejada.\n",
    "- Finitude - Algoritmos devem terminar após um número finito de passos\n",
    "- Viabilidade - Deve ser viável com os recursos disponíveis.\n",
    "- Independente - Um algoritmo deve ter instruções passo a passo, que devem independente de qualquer código de programação."
   ]
  },
  {
   "attachments": {},
   "cell_type": "markdown",
   "metadata": {},
   "source": [
    "#### Como Escrever um Algoritmo?\n",
    "---"
   ]
  },
  {
   "attachments": {},
   "cell_type": "markdown",
   "metadata": {},
   "source": [
    "Não há padrões bem definidos para escrever algoritmos. Em vez disso, é problema e dependente de recursos. Os algoritmos nunca são escritos para suportar um código de programação específico."
   ]
  },
  {
   "attachments": {},
   "cell_type": "markdown",
   "metadata": {},
   "source": [
    "Como sabemos, todas as linguagens de programação compartilham construções básicas de código como loops (`do`, `for`, `while`), controle de fluxo (`if`-`else`), etc. Essas construções comuns podem ser usadas para escrever um algoritmo."
   ]
  },
  {
   "attachments": {},
   "cell_type": "markdown",
   "metadata": {},
   "source": [
    "Escrevemos algoritmos passo a passo, mas nem sempre é o caso. A escrita do algoritmo é um processo e é executado após o domínio do problema estar bem definido. Ou seja, devemos conhecer o domínio do problema, para o qual estamos projetando uma solução."
   ]
  },
  {
   "attachments": {},
   "cell_type": "markdown",
   "metadata": {},
   "source": [
    "##### Exemplo\n",
    "\n",
    "Vamos tentar aprender a escrever algoritmos usando um exemplo.\n",
    "\n",
    "- Problema: Projete um algoritmo para somar dois números e exibir o resultado.\n",
    "\n",
    "<b>passo 1</b> - INICIAR\n",
    "\n",
    "<b>passo 2</b> - declarar três inteiros a, b e c\n",
    "\n",
    "<b>passo 3</b> - definir valores de a & b\n",
    "\n",
    "<b>passo 4</b> - adicione valores de a & b\n",
    "\n",
    "<b>passo 5</b> - armazenar a saída do passo 4 para c\n",
    "\n",
    "<b>passo 6</b> - imprimir c\n",
    "\n",
    "<b>passo 7</b> - PARE\n",
    "\n",
    "Algoritmos dizem aos programadores como codificar o programa. Alternativamente, o algoritmo pode ser escrito como:\n",
    "\n",
    "<b>passo 1</b> - INICIAR ADICIONAR\n",
    "\n",
    "<b>passo 2</b> - obter valores de a & b\n",
    "\n",
    "<b>passo 3</b> - c <= a + b\n",
    "\n",
    "<b>passo 4</b> - exibir c\n",
    "\n",
    "<b>passo 5</b> - PARE"
   ]
  },
  {
   "attachments": {},
   "cell_type": "markdown",
   "metadata": {},
   "source": [
    "No projeto e análise de algoritmos, geralmente o segundo método é usado para descrever um algoritmo. Isso torna mais fácil para o analista analisar o algoritmo ignorando todas as definições indesejadas. Ele pode observar quais operações estão sendo usadas e como o processo está fluindo."
   ]
  },
  {
   "attachments": {},
   "cell_type": "markdown",
   "metadata": {},
   "source": [
    "Escrever números de etapas é opcional."
   ]
  },
  {
   "attachments": {},
   "cell_type": "markdown",
   "metadata": {},
   "source": [
    "Nós projetamos um algoritmo para obter uma solução de um determinado problema. Um problema pode ser resolvido de mais de uma maneira."
   ]
  },
  {
   "attachments": {},
   "cell_type": "markdown",
   "metadata": {},
   "source": [
    "Portanto, muitos algoritmos de solução podem ser derivados para um determinado problema. O próximo passo é analisar os algoritmos de solução propostos e implementar a melhor solução adequada."
   ]
  },
  {
   "attachments": {},
   "cell_type": "markdown",
   "metadata": {},
   "source": [
    "### End."
   ]
  }
 ],
 "metadata": {
  "kernelspec": {
   "display_name": "Python 3",
   "language": "python",
   "name": "python3"
  },
  "language_info": {
   "codemirror_mode": {
    "name": "ipython",
    "version": 3
   },
   "file_extension": ".py",
   "mimetype": "text/x-python",
   "name": "python",
   "nbconvert_exporter": "python",
   "pygments_lexer": "ipython3",
   "version": "3.10.5"
  },
  "orig_nbformat": 4,
  "vscode": {
   "interpreter": {
    "hash": "74af3d2f25f1e46ebd2903d59225d79e4675ec224d56c01fc30cd168c2010d53"
   }
  }
 },
 "nbformat": 4,
 "nbformat_minor": 2
}
