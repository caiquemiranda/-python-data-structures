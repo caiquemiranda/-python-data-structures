{
 "cells": [
  {
   "attachments": {},
   "cell_type": "markdown",
   "metadata": {},
   "source": [
    "- Search − Algorithm to search an item in a data structure.\n",
    "- Sort − Algorithm to sort items in a certain order.\n",
    "- Insert − Algorithm to insert item in a data structure.\n",
    "- Update − Algorithm to update an existing item in a data structure.\n",
    "- Delete − Algorithm to delete an existing item from a data structure."
   ]
  },
  {
   "attachments": {},
   "cell_type": "markdown",
   "metadata": {},
   "source": [
    "- Example\n",
    "\n",
    "Let's try to learn algorithm-writing by using an example.\n",
    "\n",
    "- Problem - Design an algorithm to add two numbers and display the result.\n",
    "\n",
    "- step 1 − START\n",
    "- step 2 − declare three integers a, b & c\n",
    "- step 3 − define values of a & b\n",
    "- step 4 − add values of a & b\n",
    "- step 5 − store output of step 4 to c\n",
    "- step 6 − print c\n",
    "- step 7 − STOP\n",
    "\n",
    "Algorithms tell the programmers how to code the program. Alternatively, the algorithm can be written as:\n",
    "\n",
    "- step 1 − START ADD\n",
    "- step 2 − get values of a & b\n",
    "- step 3 − c ← a + b\n",
    "- step 4 − display c\n",
    "- step 5 − STOP"
   ]
  },
  {
   "attachments": {},
   "cell_type": "markdown",
   "metadata": {},
   "source": [
    "### END."
   ]
  }
 ],
 "metadata": {
  "kernelspec": {
   "display_name": "Python 3",
   "language": "python",
   "name": "python3"
  },
  "language_info": {
   "codemirror_mode": {
    "name": "ipython",
    "version": 3
   },
   "file_extension": ".py",
   "mimetype": "text/x-python",
   "name": "python",
   "nbconvert_exporter": "python",
   "pygments_lexer": "ipython3",
   "version": "3.10.5"
  },
  "orig_nbformat": 4,
  "vscode": {
   "interpreter": {
    "hash": "74af3d2f25f1e46ebd2903d59225d79e4675ec224d56c01fc30cd168c2010d53"
   }
  }
 },
 "nbformat": 4,
 "nbformat_minor": 2
}
