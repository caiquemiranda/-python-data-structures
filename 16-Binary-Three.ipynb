{
 "cells": [
  {
   "attachments": {},
   "cell_type": "markdown",
   "metadata": {},
   "source": [
    "### Estruturas de Dados Python – Árvore Binária"
   ]
  },
  {
   "attachments": {},
   "cell_type": "markdown",
   "metadata": {},
   "source": [
    "Árvore representa os nós conectados por arestas. É uma estrutura de dados não linear. Tem as seguintes propriedades:\n",
    "\n",
    "- Um nó é marcado como nó raiz.\n",
    "- Cada nó diferente da raiz está associado a um nó pai.\n",
    "- Cada nó pode ter um número arbitrário de nó chid."
   ]
  },
  {
   "attachments": {},
   "cell_type": "markdown",
   "metadata": {},
   "source": [
    "Criamos uma estrutura de dados de árvore em python usando o conceito de nó discutido anteriormente. Designamos um nó como nó raiz e adicionamos mais nós como nós filhos. Abaixo está o programa para criar o nó raiz."
   ]
  },
  {
   "attachments": {},
   "cell_type": "markdown",
   "metadata": {},
   "source": [
    "#### Criar Raiz\n",
    "---"
   ]
  },
  {
   "attachments": {},
   "cell_type": "markdown",
   "metadata": {},
   "source": [
    "Acabamos de criar uma classe Node e adicionar um valor ao nó. Isso se torna uma árvore com apenas um nó raiz."
   ]
  },
  {
   "cell_type": "code",
   "execution_count": 1,
   "metadata": {},
   "outputs": [
    {
     "name": "stdout",
     "output_type": "stream",
     "text": [
      "10\n"
     ]
    }
   ],
   "source": [
    "class Node:\n",
    "    def __init__(self, data):\n",
    "        self.left = None\n",
    "        self.right = None\n",
    "        self.data = data\n",
    "\n",
    "    def PrintTree(self):\n",
    "        print(self.data)\n",
    "\n",
    "root = Node(10)\n",
    "root.PrintTree()"
   ]
  },
  {
   "attachments": {},
   "cell_type": "markdown",
   "metadata": {},
   "source": [
    "#### Inserindo em uma árvore\n",
    "---"
   ]
  },
  {
   "attachments": {},
   "cell_type": "markdown",
   "metadata": {},
   "source": [
    "Para inserir em uma árvore, usamos a mesma classe de nó criada acima e adicionamos uma classe de\n",
    "inserção a ela. A classe insert compara o valor do nó com o nó pai e decide adicioná-lo como um nó esquerdo\n",
    "ou um nó direito. Finalmente, a classe PrintTree é usada para imprimir a árvore."
   ]
  },
  {
   "cell_type": "code",
   "execution_count": 2,
   "metadata": {},
   "outputs": [
    {
     "name": "stdout",
     "output_type": "stream",
     "text": [
      "3\n",
      "6\n",
      "12\n",
      "14\n"
     ]
    }
   ],
   "source": [
    "class Node:\n",
    "    def __init__(self, data):\n",
    "        self.left = None\n",
    "        self.right = None\n",
    "        self.data = data\n",
    "\n",
    "\n",
    "    def insert(self, data):\n",
    "        # Compare o novo valor com o nó pai\n",
    "        if self.data:\n",
    "            if data < self.data:\n",
    "                if self.left is None:\n",
    "                    self.left = Node(data)\n",
    "                \n",
    "                else:\n",
    "                    self.left.insert(data)\n",
    "            \n",
    "            elif data > self.data:\n",
    "                if self.right is None:\n",
    "                    self.right = Node(data)\n",
    "                \n",
    "                else:\n",
    "                    self.right.insert(data)\n",
    "        else:\n",
    "            self.data = data\n",
    "    \n",
    "    # Imprimir a árvore\n",
    "    def PrintTree(self):\n",
    "        if self.left:\n",
    "            self.left.PrintTree()\n",
    "        \n",
    "        print(self.data),\n",
    "        if self.right:\n",
    "            self.right.PrintTree()\n",
    "\n",
    "# Use o método insert para adicionar nós\n",
    "root = Node(12)\n",
    "root.insert(6)\n",
    "root.insert(14)\n",
    "root.insert(3)\n",
    "root.PrintTree()\n"
   ]
  },
  {
   "attachments": {},
   "cell_type": "markdown",
   "metadata": {},
   "source": [
    "#### Atravessando uma árvore\n",
    "---"
   ]
  },
  {
   "attachments": {},
   "cell_type": "markdown",
   "metadata": {},
   "source": [
    "A árvore pode ser percorrida decidindo-se uma sequência para visitar cada nó. Como podemos ver claramente, podemos começar em um nó e depois visitar a subárvore esquerda primeiro e a subárvore direita a seguir. Ou também podemos visitar primeiro a subárvore direita e depois a subárvore esquerda. Da mesma forma, existem nomes diferentes para esses métodos de travessia de árvore."
   ]
  },
  {
   "attachments": {},
   "cell_type": "markdown",
   "metadata": {},
   "source": [
    "#### Algoritmos de travessia de árvore\n",
    "---"
   ]
  },
  {
   "attachments": {},
   "cell_type": "markdown",
   "metadata": {},
   "source": [
    "Traversal é um processo para visitar todos os nós de uma árvore e pode imprimir seus valores também. Como todos os nós estão conectados por meio de arestas (links), sempre começamos a partir do nó raiz (cabeça). Ou seja, não podemos acessar aleatoriamente um nó em uma árvore. Existem três maneiras que usamos para atravessar uma árvore."
   ]
  },
  {
   "attachments": {},
   "cell_type": "markdown",
   "metadata": {},
   "source": [
    "- Percurso em ordem\n",
    "- Traversal de pré-ordem\n",
    "- Traversal de pós-ordem"
   ]
  },
  {
   "attachments": {},
   "cell_type": "markdown",
   "metadata": {},
   "source": [
    "##### Percurso em ordem"
   ]
  },
  {
   "attachments": {},
   "cell_type": "markdown",
   "metadata": {},
   "source": [
    "Neste método de passagem, a subárvore esquerda é visitada primeiro, depois a raiz e depois a subárvore direita. Devemos\n",
    "sempre lembrar que cada nó pode representar uma subárvore em si."
   ]
  },
  {
   "attachments": {},
   "cell_type": "markdown",
   "metadata": {},
   "source": [
    "No programa python abaixo, usamos a classe Node para criar espaços reservados para o nó raiz, bem como os nós\n",
    "esquerdo e direito. Em seguida, criamos uma função de inserção para adicionar dados à árvore. Finalmente, a lógica de\n",
    "travessia em ordem é implementada criando uma lista vazia e adicionando o nó esquerdo primeiro, seguido pelo nó raiz ou\n",
    "pai."
   ]
  },
  {
   "attachments": {},
   "cell_type": "markdown",
   "metadata": {},
   "source": [
    "Por fim, o nó esquerdo é adicionado para completar a travessia em ordem. Observe que esse processo é repetido para\n",
    "cada subárvore até que todos os nós sejam percorridos."
   ]
  },
  {
   "cell_type": "code",
   "execution_count": 3,
   "metadata": {},
   "outputs": [
    {
     "name": "stdout",
     "output_type": "stream",
     "text": [
      "[10, 14, 19, 27, 31, 35, 42]\n"
     ]
    }
   ],
   "source": [
    "class Node:\n",
    "    def __init__(self, data):\n",
    "        self.left = None\n",
    "        self.right = None\n",
    "        self.data = data\n",
    "        \n",
    "    # Inserir Nó\n",
    "    def insert(self, data):\n",
    "        if self.data:\n",
    "            if data < self.data:\n",
    "                if self.left is None:\n",
    "                    self.left = Node(data)\n",
    "                \n",
    "                else:\n",
    "                    self.left.insert(data)\n",
    "        \n",
    "            elif data > self.data:\n",
    "                if self.right is None:\n",
    "                    self.right = Node(data)\n",
    "                \n",
    "                else:\n",
    "                    self.right.insert(data)\n",
    "            \n",
    "        else:\n",
    "            self.data = data\n",
    "            \n",
    "    # Imprimir a Árvore\n",
    "    def PrintTree(self):\n",
    "        if self.left:\n",
    "            self.left.PrintTree()\n",
    "        \n",
    "        print( self.data),\n",
    "        if self.right:\n",
    "            self.right.PrintTree()\n",
    "    \n",
    "    # Travessia em ordem\n",
    "    # Esquerda -> Raiz -> Direita\n",
    "    def inorderTraversal(self, root):\n",
    "        res = []\n",
    "        if root:\n",
    "            res = self.inorderTraversal(root.left)\n",
    "            \n",
    "            res.append(root.data)\n",
    "            res = res + self.inorderTraversal(root.right)\n",
    "        return res\n",
    "\n",
    "root = Node(27)\n",
    "\n",
    "root.insert(14)\n",
    "root.insert(35)\n",
    "root.insert(10)\n",
    "root.insert(19)\n",
    "root.insert(31)\n",
    "root.insert(42)\n",
    "\n",
    "print(root.inorderTraversal(root))"
   ]
  },
  {
   "attachments": {},
   "cell_type": "markdown",
   "metadata": {},
   "source": [
    "##### Traversal de pré-encomenda"
   ]
  },
  {
   "attachments": {},
   "cell_type": "markdown",
   "metadata": {},
   "source": [
    "Neste método de passagem, o nó raiz é visitado primeiro, depois a subárvore esquerda e finalmente a subárvore direita."
   ]
  },
  {
   "attachments": {},
   "cell_type": "markdown",
   "metadata": {},
   "source": [
    "No programa python abaixo, usamos a classe Node para criar espaços reservados para o nó raiz, bem como os nós esquerdo e direito. Em seguida, criamos uma função de inserção para adicionar dados à árvore. Finalmente, a lógica de travessia de pré-ordem é implementada criando uma lista vazia e adicionando primeiro o nó raiz seguido pelo nó esquerdo."
   ]
  },
  {
   "attachments": {},
   "cell_type": "markdown",
   "metadata": {},
   "source": [
    "Por fim, o nó direito é adicionado para completar a travessia de pré-ordem. Observe que esse processo é repetido para cada subárvore até que todos os nós sejam percorridos."
   ]
  },
  {
   "cell_type": "code",
   "execution_count": 4,
   "metadata": {},
   "outputs": [
    {
     "name": "stdout",
     "output_type": "stream",
     "text": [
      "[27, 14, 10, 19, 35, 31, 42]\n"
     ]
    }
   ],
   "source": [
    "class Node:\n",
    "    def __init__(self, data):\n",
    "        self.left = None\n",
    "        self.right = None\n",
    "        self.data = data\n",
    "\n",
    "    # Inserir Nó\n",
    "    def insert(self, data):\n",
    "        if self.data:\n",
    "            if data < self.data:\n",
    "                if self.left is None:\n",
    "                    self.left = Node(data)\n",
    "                \n",
    "                else:\n",
    "                    self.left.insert(data)\n",
    "            \n",
    "            elif data > self.data:\n",
    "                if self.right is None:\n",
    "                    self.right = Node(data)\n",
    "            \n",
    "                else:\n",
    "                    self.right.insert(data)\n",
    "\n",
    "            else:\n",
    "                self.data = data\n",
    "\n",
    "    # Imprimir a Árvore\n",
    "    def PrintTree(self):\n",
    "        if self.left:\n",
    "            self.left.PrintTree()\n",
    "            print( self.data),\n",
    "        \n",
    "        if self.right:\n",
    "            self.right.PrintTree()\n",
    "        # Passagem de pré-encomenda\n",
    "        # Raiz -> Esquerda -> Direita\n",
    "\n",
    "    def PreorderTraversal(self, root):\n",
    "        res = []\n",
    "        if root:\n",
    "            res.append(root.data)\n",
    "\n",
    "            res = res + self.PreorderTraversal(root.left)\n",
    "            res = res + self.PreorderTraversal(root.right)\n",
    "        return res\n",
    "\n",
    "root = Node(27)\n",
    "root.insert(14)\n",
    "root.insert(35)\n",
    "root.insert(10)\n",
    "root.insert(19)\n",
    "root.insert(31)\n",
    "root.insert(42)\n",
    "print(root.PreorderTraversal(root))\n",
    "                    "
   ]
  },
  {
   "attachments": {},
   "cell_type": "markdown",
   "metadata": {},
   "source": [
    "##### Traversal pós-ordem"
   ]
  },
  {
   "attachments": {},
   "cell_type": "markdown",
   "metadata": {},
   "source": [
    "Neste método de passagem, o nó raiz é visitado por último, daí o nome. Primeiro, percorremos a subárvore\n",
    "esquerda, depois a subárvore direita e finalmente o nó raiz."
   ]
  },
  {
   "attachments": {},
   "cell_type": "markdown",
   "metadata": {},
   "source": [
    "No programa python abaixo, usamos a classe Node para criar espaços reservados para o nó raiz, bem como\n",
    "os nós esquerdo e direito. Em seguida, criamos uma função de inserção para adicionar dados à árvore.\n",
    "Finalmente, a lógica de travessia de pós-ordem é implementada criando uma lista vazia e adicionando\n",
    "primeiro o nó esquerdo seguido do nó direito."
   ]
  },
  {
   "attachments": {},
   "cell_type": "markdown",
   "metadata": {},
   "source": [
    "Por fim, o nó raiz ou pai é adicionado para completar a travessia de pós-ordem. Observe que esse processo\n",
    "é repetido para cada subárvore até que todos os nós sejam percorridos."
   ]
  },
  {
   "cell_type": "code",
   "execution_count": 5,
   "metadata": {},
   "outputs": [
    {
     "name": "stdout",
     "output_type": "stream",
     "text": [
      "[10, 19, 14, 31, 42, 35, 27]\n"
     ]
    }
   ],
   "source": [
    "class Node:\n",
    "    def __init__(self, data):\n",
    "        self.left = None\n",
    "        self.right = None\n",
    "        self.data = data\n",
    "\n",
    "    # Inserir Nó\n",
    "    def insert(self, data):\n",
    "        if self.data:\n",
    "            if data < self.data:\n",
    "                if self.left is None:\n",
    "                    self.left = Node(data)\n",
    "        \n",
    "                else:\n",
    "                    self.left.insert(data)\n",
    "        \n",
    "            elif data > self.data:\n",
    "                if self.right is None:\n",
    "                    self.right = Node(data)\n",
    "                \n",
    "                else:\n",
    "                    self.right.insert(data)\n",
    "        \n",
    "        else:\n",
    "            self.data = data\n",
    "    \n",
    "    # Imprimir a Árvore\n",
    "    def PrintTree(self):\n",
    "        if self.left:\n",
    "            self.left.PrintTree()\n",
    "    \n",
    "        print( self.data),    \n",
    "        if self.right:\n",
    "            self.right.PrintTree()\n",
    "        \n",
    "    # travessia de pós-ordem\n",
    "    # Esquerda -> Direita -> Raiz\n",
    "    def PostorderTraversal(self, root):\n",
    "        res = []\n",
    "        if root:\n",
    "            res = self.PostorderTraversal(root.left)\n",
    "            res = res + self.PostorderTraversal(root.right)\n",
    "            res.append(root.data)\n",
    "        \n",
    "        return res\n",
    "\n",
    "root = Node(27)\n",
    "root.insert(14)\n",
    "root.insert(35)\n",
    "root.insert(10)\n",
    "root.insert(19)\n",
    "root.insert(31)\n",
    "root.insert(42)\n",
    "print(root.PostorderTraversal(root))\n"
   ]
  },
  {
   "cell_type": "code",
   "execution_count": 6,
   "metadata": {},
   "outputs": [
    {
     "name": "stdout",
     "output_type": "stream",
     "text": [
      "Author: Caique Miranda\n",
      "\n",
      "Github username: caiquemiranda\n",
      "\n",
      "sys: 3.10.5 (tags/v3.10.5:f377153, Jun  6 2022, 16:14:13) [MSC v.1929 64 bit (AMD64)]\n",
      "\n"
     ]
    }
   ],
   "source": [
    "%reload_ext watermark\n",
    "%watermark -a \"Caique Miranda\" -gu \"caiquemiranda\" -iv"
   ]
  },
  {
   "cell_type": "markdown",
   "metadata": {},
   "source": [
    "### End."
   ]
  }
 ],
 "metadata": {
  "kernelspec": {
   "display_name": "Python 3.10.5 64-bit",
   "language": "python",
   "name": "python3"
  },
  "language_info": {
   "codemirror_mode": {
    "name": "ipython",
    "version": 3
   },
   "file_extension": ".py",
   "mimetype": "text/x-python",
   "name": "python",
   "nbconvert_exporter": "python",
   "pygments_lexer": "ipython3",
   "version": "3.10.5"
  },
  "orig_nbformat": 4,
  "vscode": {
   "interpreter": {
    "hash": "74af3d2f25f1e46ebd2903d59225d79e4675ec224d56c01fc30cd168c2010d53"
   }
  }
 },
 "nbformat": 4,
 "nbformat_minor": 2
}
