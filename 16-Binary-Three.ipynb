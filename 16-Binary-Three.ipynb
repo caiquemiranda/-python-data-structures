{
 "cells": [
  {
   "cell_type": "markdown",
   "metadata": {},
   "source": [
    "### Create Root"
   ]
  },
  {
   "cell_type": "code",
   "execution_count": null,
   "metadata": {},
   "outputs": [],
   "source": [
    "class Node:\n",
    "def __init__(self, data):\n",
    "\n",
    "\n",
    "self.left = None\n",
    "self.right = None\n",
    "self.data = data\n",
    "def PrintTree(self):\n",
    "\n",
    "\n",
    "print(self.data)\n",
    "root = Node(10)\n",
    "root.PrintTree()\n"
   ]
  }
 ],
 "metadata": {
  "kernelspec": {
   "display_name": "Python 3.10.5 64-bit",
   "language": "python",
   "name": "python3"
  },
  "language_info": {
   "name": "python",
   "version": "3.10.5"
  },
  "orig_nbformat": 4,
  "vscode": {
   "interpreter": {
    "hash": "74af3d2f25f1e46ebd2903d59225d79e4675ec224d56c01fc30cd168c2010d53"
   }
  }
 },
 "nbformat": 4,
 "nbformat_minor": 2
}
