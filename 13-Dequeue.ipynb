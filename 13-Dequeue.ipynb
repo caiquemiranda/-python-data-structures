{
 "cells": [
  {
   "cell_type": "code",
   "execution_count": null,
   "metadata": {},
   "outputs": [],
   "source": [
    "import collections\n",
    "\n",
    "DoubleEnded = collections.deque([\"Mon\",\"Tue\",\"Wed\"])\n",
    "DoubleEnded.append(\"Thu\")\n",
    "\n",
    "print (\"Appended at right - \")\n",
    "print (DoubleEnded)\n",
    "\n",
    "DoubleEnded.appendleft(\"Sun\")\n",
    "\n",
    "print (\"Appended at right at left is - \")\n",
    "print (DoubleEnded)\n",
    "\n",
    "DoubleEnded.pop()\n",
    "\n",
    "print (\"Deleting from right - \")\n",
    "print (DoubleEnded)\n",
    "\n",
    "DoubleEnded.popleft()\n",
    "\n",
    "print (\"Deleting from left - \")\n",
    "print (DoubleEnded)\n",
    "\n",
    "#Appended at right -\n",
    "deque(['Mon', 'Tue', 'Wed', 'Thu'])\n",
    "\n",
    "#Appended at right at left is -\n",
    "deque(['Sun', 'Mon', 'Tue', 'Wed', 'Thu'])\n",
    "\n",
    "#Deleting from right -\n",
    "deque(['Sun', 'Mon', 'Tue', 'Wed'])\n",
    "\n",
    "#Deleting from left -\n",
    "deque(['Mon', 'Tue', 'Wed'])"
   ]
  },
  {
   "cell_type": "markdown",
   "metadata": {},
   "source": [
    "### End."
   ]
  }
 ],
 "metadata": {
  "kernelspec": {
   "display_name": "Python 3.10.5 64-bit",
   "language": "python",
   "name": "python3"
  },
  "language_info": {
   "name": "python",
   "version": "3.10.5"
  },
  "orig_nbformat": 4,
  "vscode": {
   "interpreter": {
    "hash": "74af3d2f25f1e46ebd2903d59225d79e4675ec224d56c01fc30cd168c2010d53"
   }
  }
 },
 "nbformat": 4,
 "nbformat_minor": 2
}
