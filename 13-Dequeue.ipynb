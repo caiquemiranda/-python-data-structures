{
 "cells": [
  {
   "attachments": {},
   "cell_type": "markdown",
   "metadata": {},
   "source": [
    "### Estruturas de Dados Python – Desenfileirar"
   ]
  },
  {
   "attachments": {},
   "cell_type": "markdown",
   "metadata": {},
   "source": [
    "Uma fila dupla, ou deque, suporta a adição e remoção de elementos de qualquer uma das extremidades. As pilhas e filas mais comumente usadas são formas degeneradas de deques, onde as entradas e saídas são restritas a uma única extremidade."
   ]
  },
  {
   "cell_type": "code",
   "execution_count": 2,
   "metadata": {},
   "outputs": [
    {
     "name": "stdout",
     "output_type": "stream",
     "text": [
      "Anexado à direita - \n",
      "deque(['Mon', 'Tue', 'Wed', 'Thu'])\n",
      "Anexado à direita à esquerda é - \n",
      "deque(['Sol', 'Mon', 'Tue', 'Wed', 'Thu'])\n",
      "Excluindo da direita - \n",
      "deque(['Sol', 'Mon', 'Tue', 'Wed'])\n",
      "Excluindo da esquerda - \n",
      "deque(['Mon', 'Tue', 'Wed'])\n"
     ]
    },
    {
     "data": {
      "text/plain": [
       "deque(['Mon', 'Tue', 'Wed'])"
      ]
     },
     "execution_count": 2,
     "metadata": {},
     "output_type": "execute_result"
    }
   ],
   "source": [
    "from collections import *\n",
    "\n",
    "DoubleEnded = collections.deque([\"Mon\",\"Tue\",\"Wed\"])\n",
    "DoubleEnded.append(\"Thu\")\n",
    "\n",
    "print (\"Anexado à direita - \")\n",
    "print (DoubleEnded)\n",
    "\n",
    "DoubleEnded.appendleft(\"Sol\")\n",
    "\n",
    "print (\"Anexado à direita à esquerda é - \")\n",
    "print (DoubleEnded)\n",
    "\n",
    "DoubleEnded.pop()\n",
    "\n",
    "print (\"Excluindo da direita - \")\n",
    "print (DoubleEnded)\n",
    "\n",
    "DoubleEnded.popleft()\n",
    "\n",
    "print (\"Excluindo da esquerda - \")\n",
    "print (DoubleEnded)\n",
    "\n",
    "#Anexado à direita -\n",
    "deque(['Seg', 'Ter', 'Qua', 'Qui'])\n",
    "\n",
    "#Anexado à direita à esquerda é -\n",
    "deque(['Sun', 'Mon', 'Tue', 'Wed', 'Thu'])\n",
    "\n",
    "#Excluindo da direita -\n",
    "deque(['Sun', 'Mon', 'Tue', 'Wed'])\n",
    "\n",
    "#Excluindo da esquerda -\n",
    "deque(['Mon', 'Tue', 'Wed'])"
   ]
  },
  {
   "cell_type": "code",
   "execution_count": 1,
   "metadata": {},
   "outputs": [
    {
     "name": "stdout",
     "output_type": "stream",
     "text": [
      "Author: Caique Miranda\n",
      "\n",
      "Github username: caiquemiranda\n",
      "\n",
      "sys: 3.10.5 (tags/v3.10.5:f377153, Jun  6 2022, 16:14:13) [MSC v.1929 64 bit (AMD64)]\n",
      "\n"
     ]
    }
   ],
   "source": [
    "%reload_ext watermark\n",
    "%watermark -a \"Caique Miranda\" -gu \"caiquemiranda\" -iv"
   ]
  },
  {
   "cell_type": "markdown",
   "metadata": {},
   "source": [
    "### End."
   ]
  }
 ],
 "metadata": {
  "kernelspec": {
   "display_name": "Python 3.10.5 64-bit",
   "language": "python",
   "name": "python3"
  },
  "language_info": {
   "codemirror_mode": {
    "name": "ipython",
    "version": 3
   },
   "file_extension": ".py",
   "mimetype": "text/x-python",
   "name": "python",
   "nbconvert_exporter": "python",
   "pygments_lexer": "ipython3",
   "version": "3.10.5"
  },
  "orig_nbformat": 4,
  "vscode": {
   "interpreter": {
    "hash": "74af3d2f25f1e46ebd2903d59225d79e4675ec224d56c01fc30cd168c2010d53"
   }
  }
 },
 "nbformat": 4,
 "nbformat_minor": 2
}
