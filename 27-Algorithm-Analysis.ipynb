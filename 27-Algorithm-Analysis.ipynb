{
 "cells": [
  {
   "attachments": {},
   "cell_type": "markdown",
   "metadata": {},
   "source": [
    "### Estruturas de Dados Python – Análise de Algoritmo"
   ]
  },
  {
   "attachments": {},
   "cell_type": "markdown",
   "metadata": {},
   "source": [
    "A eficiência de um algoritmo pode ser analisada em dois estágios diferentes, antes da implementação e após a implementação. Eles são os seguintes:\n",
    "\n",
    "- A Priori Analysis ÿ Esta é uma análise teórica de um algoritmo. Eficiência de um algoritmo é medido assumindo que todos os outros fatores, por exemplo, processador velocidade, são constantes e não têm efeito sobre a implementação.\n",
    "- Uma análise posterior ÿ Esta é uma análise empírica de um algoritmo. O algoritmo selecionado é implementado usando linguagem de programação. Isso é então executado na máquina do computador de destino. Nesta análise, estatísticas reais como tempo de execução e espaço necessário, são coletados."
   ]
  },
  {
   "attachments": {},
   "cell_type": "markdown",
   "metadata": {},
   "source": [
    "#### Complexidade do Algoritmo\n",
    "---"
   ]
  },
  {
   "attachments": {},
   "cell_type": "markdown",
   "metadata": {},
   "source": [
    "Suponha que X seja um algoritmo e n seja o tamanho dos dados de entrada, o tempo e o espaço usados pelo algoritmo X são os dois fatores principais, que decidem a eficiência de X."
   ]
  },
  {
   "attachments": {},
   "cell_type": "markdown",
   "metadata": {},
   "source": [
    "- Fator de tempo ÿ O tempo é medido contando o número de operações chave, como como comparações no algoritmo de ordenação.\n",
    "- Fator de espaço ÿ O espaço é medido contando o espaço máximo de memória exigida pelo algoritmo."
   ]
  },
  {
   "attachments": {},
   "cell_type": "markdown",
   "metadata": {},
   "source": [
    "A complexidade de um algoritmo f(n) dá o tempo de execução e/ou o espaço de armazenamento requerido pelo algoritmo em termos de n como o tamanho dos dados de entrada."
   ]
  },
  {
   "attachments": {},
   "cell_type": "markdown",
   "metadata": {},
   "source": [
    "#### Complexidade de Espaço\n",
    "---"
   ]
  },
  {
   "attachments": {},
   "cell_type": "markdown",
   "metadata": {},
   "source": [
    "A complexidade de espaço de um algoritmo representa a quantidade de espaço de memória exigida pelo algoritmo em seu ciclo de vida. O espaço requerido por um algoritmo é igual à soma dos dois componentes a seguir:"
   ]
  },
  {
   "attachments": {},
   "cell_type": "markdown",
   "metadata": {},
   "source": [
    "- Uma parte fixa que é um espaço necessário para armazenar determinados dados e variáveis, que são independente do tamanho do problema. Por exemplo, variáveis simples e constantes usadas, tamanho do programa, etc.\n",
    "- Uma parte variável é um espaço requerido por variáveis, cujo tamanho depende do tamanho o problema. Por exemplo, alocação de memória dinâmica, espaço de pilha de recursão, etc."
   ]
  },
  {
   "attachments": {},
   "cell_type": "markdown",
   "metadata": {},
   "source": [
    "A complexidade espacial S(P) de qualquer algoritmo P é S(P) = C + SP(I), onde C é a parte fixa e S(I) é a parte variável do algoritmo, que depende da característica de instância I. A seguir está um exemplo simples que tenta explicar o conceito -"
   ]
  },
  {
   "attachments": {},
   "cell_type": "markdown",
   "metadata": {},
   "source": [
    "Algoritmo: SUM(A, B)\n",
    "\n",
    "Etapa 1 - INICIAR\n",
    "Etapa 2 - C ÿ A + B + 10\n",
    "Passo 3 - Pare\n",
    "\n",
    "Aqui, temos três variáveis A, B e C e uma constante. Portanto, S(P) = 1 + 3. Agora, o espaço depende dos tipos de\n",
    "dados de determinadas variáveis e tipos constantes e será multiplicado de acordo."
   ]
  },
  {
   "attachments": {},
   "cell_type": "markdown",
   "metadata": {},
   "source": [
    "#### Complexidade de tempo\n",
    "---"
   ]
  },
  {
   "attachments": {},
   "cell_type": "markdown",
   "metadata": {},
   "source": [
    "A complexidade de tempo de um algoritmo representa a quantidade de tempo necessária para que o algoritmo seja executado até a conclusão. Os requisitos de tempo podem ser definidos como uma função numérica T(n), onde T(n) pode ser medido como o número de etapas, desde que cada etapa consuma tempo constante."
   ]
  },
  {
   "attachments": {},
   "cell_type": "markdown",
   "metadata": {},
   "source": [
    "Por exemplo, a adição de dois números inteiros de n bits leva n passos. Conseqüentemente, o tempo computacional total é T(n) = c ÿ n, onde c é o tempo necessário para a adição de dois bits. Aqui, observamos que T(n) cresce linearmente à medida que o tamanho da entrada aumenta. "
   ]
  },
  {
   "cell_type": "code",
   "execution_count": 1,
   "metadata": {},
   "outputs": [
    {
     "name": "stdout",
     "output_type": "stream",
     "text": [
      "Author: Caique Miranda\n",
      "\n",
      "Github username: caiquemiranda\n",
      "\n"
     ]
    }
   ],
   "source": [
    "%reload_ext watermark\n",
    "%watermark -a \"Caique Miranda\" -gu \"caiquemiranda\" -iv"
   ]
  },
  {
   "attachments": {},
   "cell_type": "markdown",
   "metadata": {},
   "source": [
    "### End."
   ]
  }
 ],
 "metadata": {
  "kernelspec": {
   "display_name": "Python 3",
   "language": "python",
   "name": "python3"
  },
  "language_info": {
   "codemirror_mode": {
    "name": "ipython",
    "version": 3
   },
   "file_extension": ".py",
   "mimetype": "text/x-python",
   "name": "python",
   "nbconvert_exporter": "python",
   "pygments_lexer": "ipython3",
   "version": "3.10.5"
  },
  "orig_nbformat": 4,
  "vscode": {
   "interpreter": {
    "hash": "74af3d2f25f1e46ebd2903d59225d79e4675ec224d56c01fc30cd168c2010d53"
   }
  }
 },
 "nbformat": 4,
 "nbformat_minor": 2
}
